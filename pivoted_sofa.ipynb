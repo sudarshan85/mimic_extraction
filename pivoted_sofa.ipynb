{
 "cells": [
  {
   "cell_type": "code",
   "execution_count": 1,
   "metadata": {
    "ExecuteTime": {
     "end_time": "2019-04-07T20:17:51.959558Z",
     "start_time": "2019-04-07T20:17:51.746431Z"
    }
   },
   "outputs": [],
   "source": [
    "import pandas as pd\n",
    "from pathlib import Path"
   ]
  },
  {
   "cell_type": "code",
   "execution_count": 2,
   "metadata": {
    "ExecuteTime": {
     "end_time": "2019-04-07T20:17:51.963381Z",
     "start_time": "2019-04-07T20:17:51.961090Z"
    }
   },
   "outputs": [],
   "source": [
    "sofa_csv = Path('./data/pivoted_sofa.csv')"
   ]
  },
  {
   "cell_type": "code",
   "execution_count": 3,
   "metadata": {
    "ExecuteTime": {
     "end_time": "2019-04-07T20:18:04.456421Z",
     "start_time": "2019-04-07T20:17:51.965277Z"
    }
   },
   "outputs": [
    {
     "name": "stdout",
     "output_type": "stream",
     "text": [
      "(5407454, 29)\n"
     ]
    },
    {
     "data": {
      "text/html": [
       "<div>\n",
       "<style scoped>\n",
       "    .dataframe tbody tr th:only-of-type {\n",
       "        vertical-align: middle;\n",
       "    }\n",
       "\n",
       "    .dataframe tbody tr th {\n",
       "        vertical-align: top;\n",
       "    }\n",
       "\n",
       "    .dataframe thead th {\n",
       "        text-align: right;\n",
       "    }\n",
       "</style>\n",
       "<table border=\"1\" class=\"dataframe\">\n",
       "  <thead>\n",
       "    <tr style=\"text-align: right;\">\n",
       "      <th></th>\n",
       "      <th>icustay_id</th>\n",
       "      <th>hr</th>\n",
       "      <th>starttime</th>\n",
       "      <th>endtime</th>\n",
       "      <th>pao2fio2ratio_novent</th>\n",
       "      <th>pao2fio2ratio_vent</th>\n",
       "      <th>rate_epinephrine</th>\n",
       "      <th>rate_norepinephrine</th>\n",
       "      <th>rate_dopamine</th>\n",
       "      <th>rate_dobutamine</th>\n",
       "      <th>...</th>\n",
       "      <th>cardiovascular</th>\n",
       "      <th>cns</th>\n",
       "      <th>renal</th>\n",
       "      <th>respiration_24hours</th>\n",
       "      <th>coagulation_24hours</th>\n",
       "      <th>liver_24hours</th>\n",
       "      <th>cardiovascular_24hours</th>\n",
       "      <th>cns_24hours</th>\n",
       "      <th>renal_24hours</th>\n",
       "      <th>sofa_24hours</th>\n",
       "    </tr>\n",
       "  </thead>\n",
       "  <tbody>\n",
       "    <tr>\n",
       "      <th>0</th>\n",
       "      <td>200001</td>\n",
       "      <td>0</td>\n",
       "      <td>2181-11-25 18:00:00</td>\n",
       "      <td>2181-11-25 19:00:00</td>\n",
       "      <td>NaN</td>\n",
       "      <td>NaN</td>\n",
       "      <td>NaN</td>\n",
       "      <td>NaN</td>\n",
       "      <td>NaN</td>\n",
       "      <td>NaN</td>\n",
       "      <td>...</td>\n",
       "      <td>NaN</td>\n",
       "      <td>NaN</td>\n",
       "      <td>NaN</td>\n",
       "      <td>0</td>\n",
       "      <td>1</td>\n",
       "      <td>0</td>\n",
       "      <td>0</td>\n",
       "      <td>0</td>\n",
       "      <td>2</td>\n",
       "      <td>3</td>\n",
       "    </tr>\n",
       "    <tr>\n",
       "      <th>1</th>\n",
       "      <td>200001</td>\n",
       "      <td>1</td>\n",
       "      <td>2181-11-25 19:00:00</td>\n",
       "      <td>2181-11-25 20:00:00</td>\n",
       "      <td>NaN</td>\n",
       "      <td>NaN</td>\n",
       "      <td>NaN</td>\n",
       "      <td>NaN</td>\n",
       "      <td>NaN</td>\n",
       "      <td>NaN</td>\n",
       "      <td>...</td>\n",
       "      <td>0.0</td>\n",
       "      <td>0.0</td>\n",
       "      <td>NaN</td>\n",
       "      <td>0</td>\n",
       "      <td>1</td>\n",
       "      <td>0</td>\n",
       "      <td>0</td>\n",
       "      <td>0</td>\n",
       "      <td>2</td>\n",
       "      <td>3</td>\n",
       "    </tr>\n",
       "    <tr>\n",
       "      <th>2</th>\n",
       "      <td>200001</td>\n",
       "      <td>2</td>\n",
       "      <td>2181-11-25 20:00:00</td>\n",
       "      <td>2181-11-25 21:00:00</td>\n",
       "      <td>NaN</td>\n",
       "      <td>NaN</td>\n",
       "      <td>NaN</td>\n",
       "      <td>NaN</td>\n",
       "      <td>NaN</td>\n",
       "      <td>NaN</td>\n",
       "      <td>...</td>\n",
       "      <td>0.0</td>\n",
       "      <td>NaN</td>\n",
       "      <td>NaN</td>\n",
       "      <td>0</td>\n",
       "      <td>1</td>\n",
       "      <td>0</td>\n",
       "      <td>0</td>\n",
       "      <td>0</td>\n",
       "      <td>2</td>\n",
       "      <td>3</td>\n",
       "    </tr>\n",
       "    <tr>\n",
       "      <th>3</th>\n",
       "      <td>200001</td>\n",
       "      <td>3</td>\n",
       "      <td>2181-11-25 21:00:00</td>\n",
       "      <td>2181-11-25 22:00:00</td>\n",
       "      <td>NaN</td>\n",
       "      <td>NaN</td>\n",
       "      <td>NaN</td>\n",
       "      <td>NaN</td>\n",
       "      <td>NaN</td>\n",
       "      <td>NaN</td>\n",
       "      <td>...</td>\n",
       "      <td>0.0</td>\n",
       "      <td>NaN</td>\n",
       "      <td>NaN</td>\n",
       "      <td>0</td>\n",
       "      <td>1</td>\n",
       "      <td>0</td>\n",
       "      <td>0</td>\n",
       "      <td>0</td>\n",
       "      <td>2</td>\n",
       "      <td>3</td>\n",
       "    </tr>\n",
       "    <tr>\n",
       "      <th>4</th>\n",
       "      <td>200001</td>\n",
       "      <td>4</td>\n",
       "      <td>2181-11-25 22:00:00</td>\n",
       "      <td>2181-11-25 23:00:00</td>\n",
       "      <td>NaN</td>\n",
       "      <td>NaN</td>\n",
       "      <td>NaN</td>\n",
       "      <td>NaN</td>\n",
       "      <td>NaN</td>\n",
       "      <td>NaN</td>\n",
       "      <td>...</td>\n",
       "      <td>0.0</td>\n",
       "      <td>NaN</td>\n",
       "      <td>3.0</td>\n",
       "      <td>0</td>\n",
       "      <td>1</td>\n",
       "      <td>0</td>\n",
       "      <td>0</td>\n",
       "      <td>0</td>\n",
       "      <td>3</td>\n",
       "      <td>4</td>\n",
       "    </tr>\n",
       "  </tbody>\n",
       "</table>\n",
       "<p>5 rows × 29 columns</p>\n",
       "</div>"
      ],
      "text/plain": [
       "   icustay_id  hr            starttime              endtime  \\\n",
       "0      200001   0  2181-11-25 18:00:00  2181-11-25 19:00:00   \n",
       "1      200001   1  2181-11-25 19:00:00  2181-11-25 20:00:00   \n",
       "2      200001   2  2181-11-25 20:00:00  2181-11-25 21:00:00   \n",
       "3      200001   3  2181-11-25 21:00:00  2181-11-25 22:00:00   \n",
       "4      200001   4  2181-11-25 22:00:00  2181-11-25 23:00:00   \n",
       "\n",
       "   pao2fio2ratio_novent  pao2fio2ratio_vent  rate_epinephrine  \\\n",
       "0                   NaN                 NaN               NaN   \n",
       "1                   NaN                 NaN               NaN   \n",
       "2                   NaN                 NaN               NaN   \n",
       "3                   NaN                 NaN               NaN   \n",
       "4                   NaN                 NaN               NaN   \n",
       "\n",
       "   rate_norepinephrine  rate_dopamine  rate_dobutamine  ...  cardiovascular  \\\n",
       "0                  NaN            NaN              NaN  ...             NaN   \n",
       "1                  NaN            NaN              NaN  ...             0.0   \n",
       "2                  NaN            NaN              NaN  ...             0.0   \n",
       "3                  NaN            NaN              NaN  ...             0.0   \n",
       "4                  NaN            NaN              NaN  ...             0.0   \n",
       "\n",
       "   cns  renal  respiration_24hours  coagulation_24hours  liver_24hours  \\\n",
       "0  NaN    NaN                    0                    1              0   \n",
       "1  0.0    NaN                    0                    1              0   \n",
       "2  NaN    NaN                    0                    1              0   \n",
       "3  NaN    NaN                    0                    1              0   \n",
       "4  NaN    3.0                    0                    1              0   \n",
       "\n",
       "   cardiovascular_24hours  cns_24hours  renal_24hours  sofa_24hours  \n",
       "0                       0            0              2             3  \n",
       "1                       0            0              2             3  \n",
       "2                       0            0              2             3  \n",
       "3                       0            0              2             3  \n",
       "4                       0            0              3             4  \n",
       "\n",
       "[5 rows x 29 columns]"
      ]
     },
     "execution_count": 3,
     "metadata": {},
     "output_type": "execute_result"
    }
   ],
   "source": [
    "df = pd.read_csv(sofa_csv)\n",
    "print(df.shape)\n",
    "df.head()"
   ]
  },
  {
   "cell_type": "code",
   "execution_count": 4,
   "metadata": {
    "ExecuteTime": {
     "end_time": "2019-04-07T20:19:02.822275Z",
     "start_time": "2019-04-07T20:19:02.816679Z"
    }
   },
   "outputs": [
    {
     "data": {
      "text/plain": [
       "Index(['icustay_id', 'hr', 'starttime', 'endtime', 'pao2fio2ratio_novent',\n",
       "       'pao2fio2ratio_vent', 'rate_epinephrine', 'rate_norepinephrine',\n",
       "       'rate_dopamine', 'rate_dobutamine', 'meanbp_min', 'gcs_min',\n",
       "       'urineoutput', 'bilirubin_max', 'creatinine_max', 'platelet_min',\n",
       "       'respiration', 'coagulation', 'liver', 'cardiovascular', 'cns', 'renal',\n",
       "       'respiration_24hours', 'coagulation_24hours', 'liver_24hours',\n",
       "       'cardiovascular_24hours', 'cns_24hours', 'renal_24hours',\n",
       "       'sofa_24hours'],\n",
       "      dtype='object')"
      ]
     },
     "execution_count": 4,
     "metadata": {},
     "output_type": "execute_result"
    }
   ],
   "source": [
    "df.columns"
   ]
  }
 ],
 "metadata": {
  "kernelspec": {
   "display_name": "Python 3",
   "language": "python",
   "name": "python3"
  },
  "language_info": {
   "codemirror_mode": {
    "name": "ipython",
    "version": 3
   },
   "file_extension": ".py",
   "mimetype": "text/x-python",
   "name": "python",
   "nbconvert_exporter": "python",
   "pygments_lexer": "ipython3",
   "version": "3.7.3"
  },
  "toc": {
   "base_numbering": 1,
   "nav_menu": {},
   "number_sections": true,
   "sideBar": true,
   "skip_h1_title": false,
   "title_cell": "Table of Contents",
   "title_sidebar": "Contents",
   "toc_cell": false,
   "toc_position": {},
   "toc_section_display": true,
   "toc_window_display": false
  }
 },
 "nbformat": 4,
 "nbformat_minor": 2
}
