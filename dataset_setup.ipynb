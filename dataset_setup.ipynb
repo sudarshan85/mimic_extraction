{
 "cells": [
  {
   "cell_type": "code",
   "execution_count": 1,
   "metadata": {
    "ExecuteTime": {
     "end_time": "2019-04-21T16:46:17.633951Z",
     "start_time": "2019-04-21T16:46:17.619386Z"
    }
   },
   "outputs": [],
   "source": [
    "%load_ext autoreload\n",
    "%autoreload 2"
   ]
  },
  {
   "cell_type": "code",
   "execution_count": 2,
   "metadata": {
    "ExecuteTime": {
     "end_time": "2019-04-21T16:46:17.883916Z",
     "start_time": "2019-04-21T16:46:17.635550Z"
    }
   },
   "outputs": [],
   "source": [
    "import psycopg2\n",
    "import random\n",
    "import math\n",
    "import pandas as pd\n",
    "from pathlib import Path"
   ]
  },
  {
   "cell_type": "code",
   "execution_count": 3,
   "metadata": {
    "ExecuteTime": {
     "end_time": "2019-04-21T16:46:17.934282Z",
     "start_time": "2019-04-21T16:46:17.885942Z"
    }
   },
   "outputs": [],
   "source": [
    "def fix_age(df):\n",
    "    cols = df.columns\n",
    "    age = df.groupby(['subject_id'])['admission_age'].mean().round(2)\n",
    "    df = pd.merge(df, age, on='subject_id', how='left')\n",
    "    df.drop(['admission_age_x'], axis=1, inplace=True)\n",
    "    df.rename({'admission_age_y': 'admission_age'}, axis=1, inplace=True)\n",
    "    df = df.reindex(cols, axis=1)\n",
    "    return df\n",
    "\n",
    "def fix_df(df):\n",
    "    df = fix_age(df)  \n",
    "    df.drop_duplicates(inplace=True)    \n",
    "    df['note'] = df['category'].str.cat(df['description'], sep='\\n')\n",
    "    df['note'] = df['note'].str.cat(df['text'], sep='\\n')\n",
    "    df.drop(['category', 'description', 'text'], axis=1, inplace=True)\n",
    "    cols = list(df.columns)\n",
    "    cols[-1] = 'class_label'\n",
    "    cols[-2] = 'note'\n",
    "    df = df.reindex(cols, axis=1)\n",
    "    return df\n",
    "\n",
    "def set_splits(df, val_pct, test_pct=None):\n",
    "    df['split'] = 'train'\n",
    "    df_len = len(df)\n",
    "    idxs = list(range(df_len))\n",
    "    random.shuffle(idxs)\n",
    "\n",
    "    val_idx = math.ceil(df_len * val_pct)\n",
    "    val_idxs = idxs[:val_idx]\n",
    "    df.loc[val_idxs, 'split'] = 'val'\n",
    "\n",
    "    if test_pct:\n",
    "        test_idx = val_idx + math.ceil(df_len * test_pct)\n",
    "        test_idxs = idxs[val_idx:test_idx]\n",
    "        df.loc[test_idxs, 'split'] = 'test'\n",
    "\n",
    "    return df"
   ]
  },
  {
   "cell_type": "code",
   "execution_count": 4,
   "metadata": {
    "ExecuteTime": {
     "end_time": "2019-04-21T16:46:18.519472Z",
     "start_time": "2019-04-21T16:46:17.936011Z"
    }
   },
   "outputs": [],
   "source": [
    "con = psycopg2.connect(dbname='mimic', user='sudarshan', host='/var/run/postgresql')\n",
    "\n",
    "query = \"\"\"\n",
    "select hadm_id, subject_id, icustay_id, admission_age, wait_period, category, description, text, class_label from data where class_label <> -1 and length(text) between 500 and 6000\n",
    "\"\"\"\n",
    "df = pd.read_sql_query(query, con)\n",
    "con.close()"
   ]
  },
  {
   "cell_type": "code",
   "execution_count": 5,
   "metadata": {
    "ExecuteTime": {
     "end_time": "2019-04-21T16:46:18.700928Z",
     "start_time": "2019-04-21T16:46:18.521058Z"
    }
   },
   "outputs": [
    {
     "data": {
      "text/html": [
       "<div>\n",
       "<style scoped>\n",
       "    .dataframe tbody tr th:only-of-type {\n",
       "        vertical-align: middle;\n",
       "    }\n",
       "\n",
       "    .dataframe tbody tr th {\n",
       "        vertical-align: top;\n",
       "    }\n",
       "\n",
       "    .dataframe thead th {\n",
       "        text-align: right;\n",
       "    }\n",
       "</style>\n",
       "<table border=\"1\" class=\"dataframe\">\n",
       "  <thead>\n",
       "    <tr style=\"text-align: right;\">\n",
       "      <th></th>\n",
       "      <th>hadm_id</th>\n",
       "      <th>subject_id</th>\n",
       "      <th>icustay_id</th>\n",
       "      <th>admission_age</th>\n",
       "      <th>wait_period</th>\n",
       "      <th>note</th>\n",
       "      <th>class_label</th>\n",
       "      <th>split</th>\n",
       "    </tr>\n",
       "  </thead>\n",
       "  <tbody>\n",
       "    <tr>\n",
       "      <th>0</th>\n",
       "      <td>100012</td>\n",
       "      <td>60039</td>\n",
       "      <td>239289</td>\n",
       "      <td>67.71</td>\n",
       "      <td>47.07</td>\n",
       "      <td>Radiology\\nCHEST (PRE-OP PA &amp; LAT)\\n[**2177-3-...</td>\n",
       "      <td>1</td>\n",
       "      <td>test</td>\n",
       "    </tr>\n",
       "    <tr>\n",
       "      <th>1</th>\n",
       "      <td>100036</td>\n",
       "      <td>30078</td>\n",
       "      <td>296976</td>\n",
       "      <td>82.87</td>\n",
       "      <td>91.19</td>\n",
       "      <td>Radiology\\nCHEST (PA &amp; LAT)\\n[**2187-7-16**] 8...</td>\n",
       "      <td>1</td>\n",
       "      <td>train</td>\n",
       "    </tr>\n",
       "    <tr>\n",
       "      <th>2</th>\n",
       "      <td>100088</td>\n",
       "      <td>22872</td>\n",
       "      <td>238680</td>\n",
       "      <td>73.06</td>\n",
       "      <td>151.68</td>\n",
       "      <td>Radiology\\nCT ABD W&amp;W/O C\\n[**2176-6-5**] 10:2...</td>\n",
       "      <td>1</td>\n",
       "      <td>train</td>\n",
       "    </tr>\n",
       "    <tr>\n",
       "      <th>3</th>\n",
       "      <td>100112</td>\n",
       "      <td>25418</td>\n",
       "      <td>281606</td>\n",
       "      <td>66.82</td>\n",
       "      <td>43.25</td>\n",
       "      <td>Radiology\\nCHEST (PRE-OP PA &amp; LAT)\\n[**2139-2-...</td>\n",
       "      <td>1</td>\n",
       "      <td>train</td>\n",
       "    </tr>\n",
       "    <tr>\n",
       "      <th>4</th>\n",
       "      <td>100131</td>\n",
       "      <td>10150</td>\n",
       "      <td>282123</td>\n",
       "      <td>300.00</td>\n",
       "      <td>38.66</td>\n",
       "      <td>Radiology\\nR FEMUR (AP &amp; LAT) RIGHT\\n[**2144-3...</td>\n",
       "      <td>1</td>\n",
       "      <td>train</td>\n",
       "    </tr>\n",
       "  </tbody>\n",
       "</table>\n",
       "</div>"
      ],
      "text/plain": [
       "   hadm_id  subject_id  icustay_id  admission_age  wait_period  \\\n",
       "0   100012       60039      239289          67.71        47.07   \n",
       "1   100036       30078      296976          82.87        91.19   \n",
       "2   100088       22872      238680          73.06       151.68   \n",
       "3   100112       25418      281606          66.82        43.25   \n",
       "4   100131       10150      282123         300.00        38.66   \n",
       "\n",
       "                                                note  class_label  split  \n",
       "0  Radiology\\nCHEST (PRE-OP PA & LAT)\\n[**2177-3-...            1   test  \n",
       "1  Radiology\\nCHEST (PA & LAT)\\n[**2187-7-16**] 8...            1  train  \n",
       "2  Radiology\\nCT ABD W&W/O C\\n[**2176-6-5**] 10:2...            1  train  \n",
       "3  Radiology\\nCHEST (PRE-OP PA & LAT)\\n[**2139-2-...            1  train  \n",
       "4  Radiology\\nR FEMUR (AP & LAT) RIGHT\\n[**2144-3...            1  train  "
      ]
     },
     "execution_count": 5,
     "metadata": {},
     "output_type": "execute_result"
    }
   ],
   "source": [
    "df = fix_df(df)\n",
    "pos = df[df['class_label'] == 1].copy()\n",
    "pos.reset_index(inplace=True, drop=True)\n",
    "neg = df[df['class_label'] == 0].copy()\n",
    "neg.reset_index(inplace=True, drop=True)\n",
    "\n",
    "pos = set_splits(pos, 0.1, 0.1)\n",
    "neg = set_splits(neg, 0.1, 0.1)\n",
    "df = pd.concat([pos, neg], axis=0)\n",
    "df.head()"
   ]
  },
  {
   "cell_type": "code",
   "execution_count": 6,
   "metadata": {
    "ExecuteTime": {
     "end_time": "2019-04-21T16:47:36.488910Z",
     "start_time": "2019-04-21T16:47:35.914750Z"
    }
   },
   "outputs": [],
   "source": [
    "path = Path('./data')\n",
    "df.to_csv(path/'data.csv', index=False)"
   ]
  },
  {
   "cell_type": "code",
   "execution_count": 7,
   "metadata": {
    "ExecuteTime": {
     "end_time": "2019-04-21T16:47:49.463006Z",
     "start_time": "2019-04-21T16:47:49.449651Z"
    }
   },
   "outputs": [
    {
     "data": {
      "text/plain": [
       "14405"
      ]
     },
     "execution_count": 7,
     "metadata": {},
     "output_type": "execute_result"
    }
   ],
   "source": [
    "len(df)"
   ]
  },
  {
   "cell_type": "code",
   "execution_count": 8,
   "metadata": {
    "ExecuteTime": {
     "end_time": "2019-04-21T16:48:15.487722Z",
     "start_time": "2019-04-21T16:48:15.273629Z"
    }
   },
   "outputs": [],
   "source": [
    "df = pd.read_csv(path/'data.csv')"
   ]
  },
  {
   "cell_type": "code",
   "execution_count": 11,
   "metadata": {
    "ExecuteTime": {
     "end_time": "2019-04-21T16:48:24.913345Z",
     "start_time": "2019-04-21T16:48:24.889531Z"
    }
   },
   "outputs": [
    {
     "data": {
      "text/html": [
       "<div>\n",
       "<style scoped>\n",
       "    .dataframe tbody tr th:only-of-type {\n",
       "        vertical-align: middle;\n",
       "    }\n",
       "\n",
       "    .dataframe tbody tr th {\n",
       "        vertical-align: top;\n",
       "    }\n",
       "\n",
       "    .dataframe thead th {\n",
       "        text-align: right;\n",
       "    }\n",
       "</style>\n",
       "<table border=\"1\" class=\"dataframe\">\n",
       "  <thead>\n",
       "    <tr style=\"text-align: right;\">\n",
       "      <th></th>\n",
       "      <th>hadm_id</th>\n",
       "      <th>subject_id</th>\n",
       "      <th>icustay_id</th>\n",
       "      <th>admission_age</th>\n",
       "      <th>wait_period</th>\n",
       "      <th>note</th>\n",
       "      <th>class_label</th>\n",
       "      <th>split</th>\n",
       "    </tr>\n",
       "  </thead>\n",
       "  <tbody>\n",
       "    <tr>\n",
       "      <th>0</th>\n",
       "      <td>100012</td>\n",
       "      <td>60039</td>\n",
       "      <td>239289</td>\n",
       "      <td>67.71</td>\n",
       "      <td>47.07</td>\n",
       "      <td>Radiology\\nCHEST (PRE-OP PA &amp; LAT)\\n[**2177-3-...</td>\n",
       "      <td>1</td>\n",
       "      <td>test</td>\n",
       "    </tr>\n",
       "    <tr>\n",
       "      <th>1</th>\n",
       "      <td>100036</td>\n",
       "      <td>30078</td>\n",
       "      <td>296976</td>\n",
       "      <td>82.87</td>\n",
       "      <td>91.19</td>\n",
       "      <td>Radiology\\nCHEST (PA &amp; LAT)\\n[**2187-7-16**] 8...</td>\n",
       "      <td>1</td>\n",
       "      <td>train</td>\n",
       "    </tr>\n",
       "    <tr>\n",
       "      <th>2</th>\n",
       "      <td>100088</td>\n",
       "      <td>22872</td>\n",
       "      <td>238680</td>\n",
       "      <td>73.06</td>\n",
       "      <td>151.68</td>\n",
       "      <td>Radiology\\nCT ABD W&amp;W/O C\\n[**2176-6-5**] 10:2...</td>\n",
       "      <td>1</td>\n",
       "      <td>train</td>\n",
       "    </tr>\n",
       "    <tr>\n",
       "      <th>3</th>\n",
       "      <td>100112</td>\n",
       "      <td>25418</td>\n",
       "      <td>281606</td>\n",
       "      <td>66.82</td>\n",
       "      <td>43.25</td>\n",
       "      <td>Radiology\\nCHEST (PRE-OP PA &amp; LAT)\\n[**2139-2-...</td>\n",
       "      <td>1</td>\n",
       "      <td>train</td>\n",
       "    </tr>\n",
       "    <tr>\n",
       "      <th>4</th>\n",
       "      <td>100131</td>\n",
       "      <td>10150</td>\n",
       "      <td>282123</td>\n",
       "      <td>300.00</td>\n",
       "      <td>38.66</td>\n",
       "      <td>Radiology\\nR FEMUR (AP &amp; LAT) RIGHT\\n[**2144-3...</td>\n",
       "      <td>1</td>\n",
       "      <td>train</td>\n",
       "    </tr>\n",
       "  </tbody>\n",
       "</table>\n",
       "</div>"
      ],
      "text/plain": [
       "   hadm_id  subject_id  icustay_id  admission_age  wait_period  \\\n",
       "0   100012       60039      239289          67.71        47.07   \n",
       "1   100036       30078      296976          82.87        91.19   \n",
       "2   100088       22872      238680          73.06       151.68   \n",
       "3   100112       25418      281606          66.82        43.25   \n",
       "4   100131       10150      282123         300.00        38.66   \n",
       "\n",
       "                                                note  class_label  split  \n",
       "0  Radiology\\nCHEST (PRE-OP PA & LAT)\\n[**2177-3-...            1   test  \n",
       "1  Radiology\\nCHEST (PA & LAT)\\n[**2187-7-16**] 8...            1  train  \n",
       "2  Radiology\\nCT ABD W&W/O C\\n[**2176-6-5**] 10:2...            1  train  \n",
       "3  Radiology\\nCHEST (PRE-OP PA & LAT)\\n[**2139-2-...            1  train  \n",
       "4  Radiology\\nR FEMUR (AP & LAT) RIGHT\\n[**2144-3...            1  train  "
      ]
     },
     "execution_count": 11,
     "metadata": {},
     "output_type": "execute_result"
    }
   ],
   "source": [
    "df.head()"
   ]
  }
 ],
 "metadata": {
  "kernelspec": {
   "display_name": "Python 3",
   "language": "python",
   "name": "python3"
  },
  "language_info": {
   "codemirror_mode": {
    "name": "ipython",
    "version": 3
   },
   "file_extension": ".py",
   "mimetype": "text/x-python",
   "name": "python",
   "nbconvert_exporter": "python",
   "pygments_lexer": "ipython3",
   "version": "3.7.3"
  },
  "toc": {
   "base_numbering": 1,
   "nav_menu": {},
   "number_sections": true,
   "sideBar": true,
   "skip_h1_title": false,
   "title_cell": "Table of Contents",
   "title_sidebar": "Contents",
   "toc_cell": false,
   "toc_position": {},
   "toc_section_display": true,
   "toc_window_display": false
  }
 },
 "nbformat": 4,
 "nbformat_minor": 2
}
