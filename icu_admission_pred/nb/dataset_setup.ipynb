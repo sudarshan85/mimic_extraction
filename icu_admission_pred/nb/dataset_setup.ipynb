{
 "cells": [
  {
   "cell_type": "code",
   "execution_count": 1,
   "metadata": {
    "ExecuteTime": {
     "end_time": "2019-04-25T18:40:25.488763Z",
     "start_time": "2019-04-25T18:40:25.473682Z"
    }
   },
   "outputs": [],
   "source": [
    "%load_ext autoreload\n",
    "%autoreload 2"
   ]
  },
  {
   "cell_type": "code",
   "execution_count": 2,
   "metadata": {
    "ExecuteTime": {
     "end_time": "2019-04-25T18:40:25.732111Z",
     "start_time": "2019-04-25T18:40:25.490643Z"
    }
   },
   "outputs": [],
   "source": [
    "import psycopg2\n",
    "import random\n",
    "import math\n",
    "import pandas as pd\n",
    "from pathlib import Path"
   ]
  },
  {
   "cell_type": "code",
   "execution_count": 5,
   "metadata": {
    "ExecuteTime": {
     "end_time": "2019-04-25T18:40:45.244067Z",
     "start_time": "2019-04-25T18:40:44.592318Z"
    }
   },
   "outputs": [],
   "source": [
    "con = psycopg2.connect(dbname='mimic', user='sudarshan', host='/var/run/postgresql')\n",
    "\n",
    "query = \"\"\"\n",
    "select hadm_id, subject_id, icustay_id, admission_age, wait_period, category, description, text, class_label from notes where class_label != -1 and length(text) between 100 and 8500\n",
    "\"\"\"\n",
    "df = pd.read_sql_query(query, con)\n",
    "con.close()"
   ]
  },
  {
   "cell_type": "code",
   "execution_count": 6,
   "metadata": {
    "ExecuteTime": {
     "end_time": "2019-04-25T18:40:46.033785Z",
     "start_time": "2019-04-25T18:40:46.015665Z"
    }
   },
   "outputs": [
    {
     "data": {
      "text/plain": [
       "(51739, 9)"
      ]
     },
     "execution_count": 6,
     "metadata": {},
     "output_type": "execute_result"
    }
   ],
   "source": [
    "df.shape"
   ]
  },
  {
   "cell_type": "code",
   "execution_count": 10,
   "metadata": {
    "ExecuteTime": {
     "end_time": "2019-04-25T18:41:46.870595Z",
     "start_time": "2019-04-25T18:41:46.840292Z"
    }
   },
   "outputs": [
    {
     "data": {
      "text/html": [
       "<div>\n",
       "<style scoped>\n",
       "    .dataframe tbody tr th:only-of-type {\n",
       "        vertical-align: middle;\n",
       "    }\n",
       "\n",
       "    .dataframe tbody tr th {\n",
       "        vertical-align: top;\n",
       "    }\n",
       "\n",
       "    .dataframe thead th {\n",
       "        text-align: right;\n",
       "    }\n",
       "</style>\n",
       "<table border=\"1\" class=\"dataframe\">\n",
       "  <thead>\n",
       "    <tr style=\"text-align: right;\">\n",
       "      <th></th>\n",
       "      <th>hadm_id</th>\n",
       "      <th>subject_id</th>\n",
       "      <th>icustay_id</th>\n",
       "      <th>admission_age</th>\n",
       "      <th>wait_period</th>\n",
       "      <th>category</th>\n",
       "      <th>description</th>\n",
       "      <th>text</th>\n",
       "      <th>class_label</th>\n",
       "    </tr>\n",
       "  </thead>\n",
       "  <tbody>\n",
       "    <tr>\n",
       "      <th>0</th>\n",
       "      <td>100012</td>\n",
       "      <td>60039</td>\n",
       "      <td>239289</td>\n",
       "      <td>67.71</td>\n",
       "      <td>1.96</td>\n",
       "      <td>Radiology</td>\n",
       "      <td>CHEST (PRE-OP PA &amp; LAT)</td>\n",
       "      <td>[**2177-3-12**] 4:40 PM\\n CHEST (PRE-OP PA &amp; L...</td>\n",
       "      <td>1</td>\n",
       "    </tr>\n",
       "    <tr>\n",
       "      <th>1</th>\n",
       "      <td>100036</td>\n",
       "      <td>30078</td>\n",
       "      <td>296976</td>\n",
       "      <td>82.87</td>\n",
       "      <td>3.80</td>\n",
       "      <td>Radiology</td>\n",
       "      <td>CHEST (PA &amp; LAT)</td>\n",
       "      <td>[**2187-7-16**] 8:34 AM\\n CHEST (PA &amp; LAT)    ...</td>\n",
       "      <td>1</td>\n",
       "    </tr>\n",
       "    <tr>\n",
       "      <th>2</th>\n",
       "      <td>100037</td>\n",
       "      <td>58947</td>\n",
       "      <td>221136</td>\n",
       "      <td>58.40</td>\n",
       "      <td>27.79</td>\n",
       "      <td>Nursing</td>\n",
       "      <td>Nursing Progress Note</td>\n",
       "      <td>Neutropenia\\n   Assessment:\\n   Action:\\n   Re...</td>\n",
       "      <td>0</td>\n",
       "    </tr>\n",
       "    <tr>\n",
       "      <th>3</th>\n",
       "      <td>100037</td>\n",
       "      <td>58947</td>\n",
       "      <td>221136</td>\n",
       "      <td>58.40</td>\n",
       "      <td>27.79</td>\n",
       "      <td>Radiology</td>\n",
       "      <td>CT HEAD W/O CONTRAST</td>\n",
       "      <td>[**Last Name (LF) 5733**],[**First Name3 (LF) ...</td>\n",
       "      <td>0</td>\n",
       "    </tr>\n",
       "    <tr>\n",
       "      <th>4</th>\n",
       "      <td>100037</td>\n",
       "      <td>58947</td>\n",
       "      <td>221136</td>\n",
       "      <td>58.40</td>\n",
       "      <td>27.79</td>\n",
       "      <td>Physician</td>\n",
       "      <td>Physician Resident Admission Note</td>\n",
       "      <td>Chief Complaint:  Pancytopenia, ICH\\n   HPI:\\n...</td>\n",
       "      <td>0</td>\n",
       "    </tr>\n",
       "  </tbody>\n",
       "</table>\n",
       "</div>"
      ],
      "text/plain": [
       "   hadm_id  subject_id  icustay_id  admission_age  wait_period    category  \\\n",
       "0   100012       60039      239289          67.71         1.96   Radiology   \n",
       "1   100036       30078      296976          82.87         3.80   Radiology   \n",
       "2   100037       58947      221136          58.40        27.79     Nursing   \n",
       "3   100037       58947      221136          58.40        27.79   Radiology   \n",
       "4   100037       58947      221136          58.40        27.79  Physician    \n",
       "\n",
       "                         description  \\\n",
       "0            CHEST (PRE-OP PA & LAT)   \n",
       "1                   CHEST (PA & LAT)   \n",
       "2              Nursing Progress Note   \n",
       "3               CT HEAD W/O CONTRAST   \n",
       "4  Physician Resident Admission Note   \n",
       "\n",
       "                                                text  class_label  \n",
       "0  [**2177-3-12**] 4:40 PM\\n CHEST (PRE-OP PA & L...            1  \n",
       "1  [**2187-7-16**] 8:34 AM\\n CHEST (PA & LAT)    ...            1  \n",
       "2  Neutropenia\\n   Assessment:\\n   Action:\\n   Re...            0  \n",
       "3  [**Last Name (LF) 5733**],[**First Name3 (LF) ...            0  \n",
       "4  Chief Complaint:  Pancytopenia, ICH\\n   HPI:\\n...            0  "
      ]
     },
     "execution_count": 10,
     "metadata": {},
     "output_type": "execute_result"
    }
   ],
   "source": [
    "df.head(5)"
   ]
  },
  {
   "cell_type": "code",
   "execution_count": null,
   "metadata": {
    "ExecuteTime": {
     "end_time": "2019-04-21T16:46:18.700928Z",
     "start_time": "2019-04-21T16:46:18.521058Z"
    }
   },
   "outputs": [],
   "source": [
    "df = fix_df(df)\n",
    "pos = df[df['class_label'] == 1].copy()\n",
    "pos.reset_index(inplace=True, drop=True)\n",
    "neg = df[df['class_label'] == 0].copy()\n",
    "neg.reset_index(inplace=True, drop=True)\n",
    "\n",
    "pos = set_splits(pos, 0.1, 0.1)\n",
    "neg = set_splits(neg, 0.1, 0.1)\n",
    "df = pd.concat([pos, neg], axis=0)\n",
    "df.head()"
   ]
  },
  {
   "cell_type": "code",
   "execution_count": null,
   "metadata": {
    "ExecuteTime": {
     "end_time": "2019-04-21T16:46:17.934282Z",
     "start_time": "2019-04-21T16:46:17.885942Z"
    }
   },
   "outputs": [],
   "source": [
    "def fix_age(df):\n",
    "    cols = df.columns\n",
    "    age = df.groupby(['subject_id'])['admission_age'].mean().round(2)\n",
    "    df = pd.merge(df, age, on='subject_id', how='left')\n",
    "    df.drop(['admission_age_x'], axis=1, inplace=True)\n",
    "    df.rename({'admission_age_y': 'admission_age'}, axis=1, inplace=True)\n",
    "    df = df.reindex(cols, axis=1)\n",
    "    return df\n",
    "\n",
    "def fix_df(df):\n",
    "    df = fix_age(df)  \n",
    "    df.drop_duplicates(inplace=True)    \n",
    "    df['note'] = df['category'].str.cat(df['description'], sep='\\n')\n",
    "    df['note'] = df['note'].str.cat(df['text'], sep='\\n')\n",
    "    df.drop(['category', 'description', 'text'], axis=1, inplace=True)\n",
    "    cols = list(df.columns)\n",
    "    cols[-1] = 'class_label'\n",
    "    cols[-2] = 'note'\n",
    "    df = df.reindex(cols, axis=1)\n",
    "    return df\n",
    "\n",
    "def set_splits(df, val_pct, test_pct=None):\n",
    "    df['split'] = 'train'\n",
    "    df_len = len(df)\n",
    "    idxs = list(range(df_len))\n",
    "    random.shuffle(idxs)\n",
    "\n",
    "    val_idx = math.ceil(df_len * val_pct)\n",
    "    val_idxs = idxs[:val_idx]\n",
    "    df.loc[val_idxs, 'split'] = 'val'\n",
    "\n",
    "    if test_pct:\n",
    "        test_idx = val_idx + math.ceil(df_len * test_pct)\n",
    "        test_idxs = idxs[val_idx:test_idx]\n",
    "        df.loc[test_idxs, 'split'] = 'test'\n",
    "\n",
    "    return df"
   ]
  },
  {
   "cell_type": "code",
   "execution_count": null,
   "metadata": {
    "ExecuteTime": {
     "end_time": "2019-04-21T16:46:18.700928Z",
     "start_time": "2019-04-21T16:46:18.521058Z"
    }
   },
   "outputs": [],
   "source": [
    "df = fix_df(df)\n",
    "pos = df[df['class_label'] == 1].copy()\n",
    "pos.reset_index(inplace=True, drop=True)\n",
    "neg = df[df['class_label'] == 0].copy()\n",
    "neg.reset_index(inplace=True, drop=True)\n",
    "\n",
    "pos = set_splits(pos, 0.1, 0.1)\n",
    "neg = set_splits(neg, 0.1, 0.1)\n",
    "df = pd.concat([pos, neg], axis=0)\n",
    "df.head()"
   ]
  },
  {
   "cell_type": "code",
   "execution_count": null,
   "metadata": {
    "ExecuteTime": {
     "end_time": "2019-04-21T16:47:36.488910Z",
     "start_time": "2019-04-21T16:47:35.914750Z"
    }
   },
   "outputs": [],
   "source": [
    "path = Path('./data')\n",
    "df.to_csv(path/'data.csv', index=False)"
   ]
  },
  {
   "cell_type": "code",
   "execution_count": null,
   "metadata": {
    "ExecuteTime": {
     "end_time": "2019-04-21T16:47:49.463006Z",
     "start_time": "2019-04-21T16:47:49.449651Z"
    }
   },
   "outputs": [],
   "source": [
    "len(df)"
   ]
  },
  {
   "cell_type": "code",
   "execution_count": null,
   "metadata": {
    "ExecuteTime": {
     "end_time": "2019-04-21T16:48:15.487722Z",
     "start_time": "2019-04-21T16:48:15.273629Z"
    }
   },
   "outputs": [],
   "source": [
    "df = pd.read_csv(path/'data.csv')"
   ]
  },
  {
   "cell_type": "code",
   "execution_count": null,
   "metadata": {
    "ExecuteTime": {
     "end_time": "2019-04-21T16:48:24.913345Z",
     "start_time": "2019-04-21T16:48:24.889531Z"
    }
   },
   "outputs": [],
   "source": [
    "df.head()"
   ]
  }
 ],
 "metadata": {
  "kernelspec": {
   "display_name": "Python 3",
   "language": "python",
   "name": "python3"
  },
  "language_info": {
   "codemirror_mode": {
    "name": "ipython",
    "version": 3
   },
   "file_extension": ".py",
   "mimetype": "text/x-python",
   "name": "python",
   "nbconvert_exporter": "python",
   "pygments_lexer": "ipython3",
   "version": "3.7.3"
  },
  "toc": {
   "base_numbering": 1,
   "nav_menu": {},
   "number_sections": true,
   "sideBar": true,
   "skip_h1_title": false,
   "title_cell": "Table of Contents",
   "title_sidebar": "Contents",
   "toc_cell": false,
   "toc_position": {},
   "toc_section_display": true,
   "toc_window_display": false
  }
 },
 "nbformat": 4,
 "nbformat_minor": 2
}
