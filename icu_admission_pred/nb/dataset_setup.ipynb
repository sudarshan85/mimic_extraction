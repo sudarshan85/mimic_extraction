{
 "cells": [
  {
   "cell_type": "code",
   "execution_count": 1,
   "metadata": {
    "ExecuteTime": {
     "end_time": "2019-04-26T12:23:51.440665Z",
     "start_time": "2019-04-26T12:23:51.426298Z"
    }
   },
   "outputs": [],
   "source": [
    "%load_ext autoreload\n",
    "%autoreload 2"
   ]
  },
  {
   "cell_type": "code",
   "execution_count": 2,
   "metadata": {
    "ExecuteTime": {
     "end_time": "2019-04-26T12:23:51.910477Z",
     "start_time": "2019-04-26T12:23:51.442083Z"
    }
   },
   "outputs": [],
   "source": [
    "import psycopg2\n",
    "import math\n",
    "import numpy as np\n",
    "import pandas as pd\n",
    "from pathlib import Path\n",
    "\n",
    "from sklearn.model_selection import train_test_split"
   ]
  },
  {
   "cell_type": "code",
   "execution_count": 3,
   "metadata": {
    "ExecuteTime": {
     "end_time": "2019-04-26T12:23:53.266994Z",
     "start_time": "2019-04-26T12:23:51.912502Z"
    }
   },
   "outputs": [
    {
     "data": {
      "text/html": [
       "<div>\n",
       "<style scoped>\n",
       "    .dataframe tbody tr th:only-of-type {\n",
       "        vertical-align: middle;\n",
       "    }\n",
       "\n",
       "    .dataframe tbody tr th {\n",
       "        vertical-align: top;\n",
       "    }\n",
       "\n",
       "    .dataframe thead th {\n",
       "        text-align: right;\n",
       "    }\n",
       "</style>\n",
       "<table border=\"1\" class=\"dataframe\">\n",
       "  <thead>\n",
       "    <tr style=\"text-align: right;\">\n",
       "      <th></th>\n",
       "      <th>hadm_id</th>\n",
       "      <th>subject_id</th>\n",
       "      <th>icustay_id</th>\n",
       "      <th>admission_age</th>\n",
       "      <th>wait_period</th>\n",
       "      <th>chartinterval</th>\n",
       "      <th>category</th>\n",
       "      <th>description</th>\n",
       "      <th>text</th>\n",
       "      <th>class_label</th>\n",
       "    </tr>\n",
       "  </thead>\n",
       "  <tbody>\n",
       "    <tr>\n",
       "      <th>0</th>\n",
       "      <td>100012</td>\n",
       "      <td>60039</td>\n",
       "      <td>239289</td>\n",
       "      <td>67.71</td>\n",
       "      <td>1.96</td>\n",
       "      <td>1</td>\n",
       "      <td>Radiology</td>\n",
       "      <td>CHEST (PRE-OP PA &amp; LAT)</td>\n",
       "      <td>[**2177-3-12**] 4:40 PM\\n CHEST (PRE-OP PA &amp; L...</td>\n",
       "      <td>1</td>\n",
       "    </tr>\n",
       "    <tr>\n",
       "      <th>1</th>\n",
       "      <td>100036</td>\n",
       "      <td>30078</td>\n",
       "      <td>296976</td>\n",
       "      <td>82.87</td>\n",
       "      <td>3.80</td>\n",
       "      <td>1</td>\n",
       "      <td>Radiology</td>\n",
       "      <td>CHEST (PA &amp; LAT)</td>\n",
       "      <td>[**2187-7-16**] 8:34 AM\\n CHEST (PA &amp; LAT)    ...</td>\n",
       "      <td>1</td>\n",
       "    </tr>\n",
       "    <tr>\n",
       "      <th>2</th>\n",
       "      <td>100037</td>\n",
       "      <td>58947</td>\n",
       "      <td>221136</td>\n",
       "      <td>58.40</td>\n",
       "      <td>27.79</td>\n",
       "      <td>15</td>\n",
       "      <td>Nursing</td>\n",
       "      <td>Nursing Progress Note</td>\n",
       "      <td>Neutropenia\\n   Assessment:\\n   Action:\\n   Re...</td>\n",
       "      <td>0</td>\n",
       "    </tr>\n",
       "    <tr>\n",
       "      <th>3</th>\n",
       "      <td>100037</td>\n",
       "      <td>58947</td>\n",
       "      <td>221136</td>\n",
       "      <td>58.40</td>\n",
       "      <td>27.79</td>\n",
       "      <td>6</td>\n",
       "      <td>Radiology</td>\n",
       "      <td>CT HEAD W/O CONTRAST</td>\n",
       "      <td>[**Last Name (LF) 5733**],[**First Name3 (LF) ...</td>\n",
       "      <td>0</td>\n",
       "    </tr>\n",
       "    <tr>\n",
       "      <th>4</th>\n",
       "      <td>100037</td>\n",
       "      <td>58947</td>\n",
       "      <td>221136</td>\n",
       "      <td>58.40</td>\n",
       "      <td>27.79</td>\n",
       "      <td>15</td>\n",
       "      <td>Physician</td>\n",
       "      <td>Physician Resident Admission Note</td>\n",
       "      <td>Chief Complaint:  Pancytopenia, ICH\\n   HPI:\\n...</td>\n",
       "      <td>0</td>\n",
       "    </tr>\n",
       "  </tbody>\n",
       "</table>\n",
       "</div>"
      ],
      "text/plain": [
       "   hadm_id  subject_id  icustay_id  admission_age  wait_period  chartinterval  \\\n",
       "0   100012       60039      239289          67.71         1.96              1   \n",
       "1   100036       30078      296976          82.87         3.80              1   \n",
       "2   100037       58947      221136          58.40        27.79             15   \n",
       "3   100037       58947      221136          58.40        27.79              6   \n",
       "4   100037       58947      221136          58.40        27.79             15   \n",
       "\n",
       "     category                        description  \\\n",
       "0   Radiology            CHEST (PRE-OP PA & LAT)   \n",
       "1   Radiology                   CHEST (PA & LAT)   \n",
       "2     Nursing              Nursing Progress Note   \n",
       "3   Radiology               CT HEAD W/O CONTRAST   \n",
       "4  Physician   Physician Resident Admission Note   \n",
       "\n",
       "                                                text  class_label  \n",
       "0  [**2177-3-12**] 4:40 PM\\n CHEST (PRE-OP PA & L...            1  \n",
       "1  [**2187-7-16**] 8:34 AM\\n CHEST (PA & LAT)    ...            1  \n",
       "2  Neutropenia\\n   Assessment:\\n   Action:\\n   Re...            0  \n",
       "3  [**Last Name (LF) 5733**],[**First Name3 (LF) ...            0  \n",
       "4  Chief Complaint:  Pancytopenia, ICH\\n   HPI:\\n...            0  "
      ]
     },
     "execution_count": 3,
     "metadata": {},
     "output_type": "execute_result"
    }
   ],
   "source": [
    "con = psycopg2.connect(dbname='mimic', user='sudarshan', host='/var/run/postgresql')\n",
    "\n",
    "query = \"\"\"\n",
    "select hadm_id, subject_id, icustay_id, admission_age, wait_period, chartinterval, category, description, text, class_label from notes where class_label != -1 and length(text) between 100 and 8500\n",
    "\"\"\"\n",
    "df = pd.read_sql_query(query, con)\n",
    "con.close()\n",
    "df.head()"
   ]
  },
  {
   "cell_type": "code",
   "execution_count": 4,
   "metadata": {
    "ExecuteTime": {
     "end_time": "2019-04-26T12:23:53.285936Z",
     "start_time": "2019-04-26T12:23:53.268952Z"
    }
   },
   "outputs": [],
   "source": [
    "def fix_df(df):\n",
    "    df.drop_duplicates(inplace=True)    \n",
    "    df['note'] = df['category'].str.cat(df['description'], sep='\\n')\n",
    "    df['note'] = df['note'].str.cat(df['text'], sep='\\n')\n",
    "    df.drop(['category', 'description', 'text'], axis=1, inplace=True)\n",
    "    cols = list(df.columns)\n",
    "    cols[-1] = 'class_label'\n",
    "    cols[-2] = 'note'\n",
    "    df = df.reindex(cols, axis=1)\n",
    "    return df"
   ]
  },
  {
   "cell_type": "code",
   "execution_count": 5,
   "metadata": {
    "ExecuteTime": {
     "end_time": "2019-04-26T12:23:53.310628Z",
     "start_time": "2019-04-26T12:23:53.287262Z"
    }
   },
   "outputs": [],
   "source": [
    "# def set_splits(df, val_pct, test_pct=None):\n",
    "#     df['split'] = 'train'\n",
    "#     df_len = len(df)\n",
    "#     idxs = list(range(df_len))\n",
    "#     random.shuffle(idxs)\n",
    "\n",
    "#     val_idx = math.ceil(df_len * val_pct)\n",
    "#     val_idxs = idxs[:val_idx]\n",
    "#     df.loc[val_idxs, 'split'] = 'val'\n",
    "\n",
    "#     if test_pct:\n",
    "#         test_idx = val_idx + math.ceil(df_len * test_pct)\n",
    "#         test_idxs = idxs[val_idx:test_idx]\n",
    "#         df.loc[test_idxs, 'split'] = 'test'\n",
    "\n",
    "#     return df"
   ]
  },
  {
   "cell_type": "code",
   "execution_count": 15,
   "metadata": {
    "ExecuteTime": {
     "end_time": "2019-04-26T12:30:59.513303Z",
     "start_time": "2019-04-26T12:30:59.500110Z"
    }
   },
   "outputs": [],
   "source": [
    "import pdb"
   ]
  },
  {
   "cell_type": "code",
   "execution_count": 86,
   "metadata": {
    "ExecuteTime": {
     "end_time": "2019-04-26T12:53:19.729445Z",
     "start_time": "2019-04-26T12:53:19.706811Z"
    }
   },
   "outputs": [],
   "source": [
    "def set_splits(df, val_pct, test_pct=0.0, sample_pct=0.0):    \n",
    "    new_test_pct = np.around(test_pct / (val_pct + test_pct), 2)\n",
    "#     new_val_pct = 1.0 - new_test_pct\n",
    "#     print(new_test_pct, new_val_pct)\n",
    "#     pdb.set_trace()\n",
    "    \n",
    "\n",
    "    train_pct = 1 - (val_pct + test_pct)\n",
    "    train_idxs, inter = train_test_split(np.arange(len(df)), test_size=(val_pct + test_pct))\n",
    "    val_idxs, test_idxs = train_test_split(inter, test_size=new_test_pct)\n",
    "    \n",
    "#     print(train_pct, val_pct, test_pct)\n",
    "#     print(len(train_idxs), len(val_idxs), len(test_idxs))\n",
    "#     print(round(len(train_idxs)/len(df), 2), round(len(val_idxs)/len(df), 2), round(len(test_idxs)/len(df), 2))\n",
    "    \n",
    "#     print(math.isclose(round(len(train_idxs)/len(df), 2), train_pct))\n",
    "#     print(math.isclose(round(len(val_idxs)/len(df), 2), val_pct))\n",
    "#     print(math.isclose(round(len(test_idxs)/len(df), 2), test_pct))\n",
    "\n",
    "    df['split'] = None    \n",
    "    df.iloc[train_idxs, df.columns.get_loc('split')] = 'train'\n",
    "    df.iloc[val_idxs, df.columns.get_loc('split')] = 'val'\n",
    "    df.iloc[test_idxs, df.columns.get_loc('split')] = 'test'\n",
    "    \n",
    "    if sample_pct > 0.0:\n",
    "        df['is_sample'] = False\n",
    "        _, sample_idxs = train_test_split(train_idxs, test_size=sample_pct)\n",
    "#         print(sample_pct, round(sample_pct * train_pct, 2), len(sample_idxs))\n",
    "#         print(math.isclose(round(len(sample_idxs)/len(df), 2), round(sample_pct * train_pct, 2)))\n",
    "        df.iloc[sample_idxs, df.columns.get_loc('is_sample')] = True\n",
    "#         print(round(len(df[df['is_sample']])/len(df), 2))\n",
    "        print(math.isclose(round(len(df[df['is_sample']])/len(df), 2), round(sample_pct * train_pct, 2)))\n",
    "#         print((round(len(df[df['is_sample']])/len(df), 2), round(sample_pct * train_pct, 2)))\n",
    "    \n",
    "    print(math.isclose(round(len(df[df['split'] == 'train'])/len(df), 2), train_pct))\n",
    "    print(math.isclose(round(len(df[df['split'] == 'val'])/len(df), 2), val_pct))\n",
    "    print(math.isclose(round(len(df[df['split'] == 'test'])/len(df), 2), test_pct))\n",
    "    \n",
    "#     assert(math.isclose(round(len(df[df['split'] == 'train'])/len(df), 2), train_pct))    \n",
    "#     assert(math.isclose(round(len(df[df['split'] == 'val'])/len(df), 2), 0.1))\n",
    "#     assert(math.isclose(round(len(df[df['split'] == 'test'])/len(df), 2), 0.1))"
   ]
  },
  {
   "cell_type": "code",
   "execution_count": 87,
   "metadata": {
    "ExecuteTime": {
     "end_time": "2019-04-26T12:53:20.396540Z",
     "start_time": "2019-04-26T12:53:20.347137Z"
    }
   },
   "outputs": [
    {
     "name": "stdout",
     "output_type": "stream",
     "text": [
      "True\n",
      "True\n",
      "True\n",
      "True\n"
     ]
    }
   ],
   "source": [
    "set_splits(df, 0.25,0.15, 0.1)"
   ]
  },
  {
   "cell_type": "code",
   "execution_count": 7,
   "metadata": {
    "ExecuteTime": {
     "end_time": "2019-04-26T12:23:53.764824Z",
     "start_time": "2019-04-26T12:23:53.351657Z"
    }
   },
   "outputs": [
    {
     "data": {
      "text/html": [
       "<div>\n",
       "<style scoped>\n",
       "    .dataframe tbody tr th:only-of-type {\n",
       "        vertical-align: middle;\n",
       "    }\n",
       "\n",
       "    .dataframe tbody tr th {\n",
       "        vertical-align: top;\n",
       "    }\n",
       "\n",
       "    .dataframe thead th {\n",
       "        text-align: right;\n",
       "    }\n",
       "</style>\n",
       "<table border=\"1\" class=\"dataframe\">\n",
       "  <thead>\n",
       "    <tr style=\"text-align: right;\">\n",
       "      <th></th>\n",
       "      <th>hadm_id</th>\n",
       "      <th>subject_id</th>\n",
       "      <th>icustay_id</th>\n",
       "      <th>admission_age</th>\n",
       "      <th>wait_period</th>\n",
       "      <th>chartinterval</th>\n",
       "      <th>note</th>\n",
       "      <th>class_label</th>\n",
       "    </tr>\n",
       "  </thead>\n",
       "  <tbody>\n",
       "    <tr>\n",
       "      <th>0</th>\n",
       "      <td>100012</td>\n",
       "      <td>60039</td>\n",
       "      <td>239289</td>\n",
       "      <td>67.71</td>\n",
       "      <td>1.96</td>\n",
       "      <td>1</td>\n",
       "      <td>Radiology\\nCHEST (PRE-OP PA &amp; LAT)\\n[**2177-3-...</td>\n",
       "      <td>1</td>\n",
       "    </tr>\n",
       "    <tr>\n",
       "      <th>1</th>\n",
       "      <td>100036</td>\n",
       "      <td>30078</td>\n",
       "      <td>296976</td>\n",
       "      <td>82.87</td>\n",
       "      <td>3.80</td>\n",
       "      <td>1</td>\n",
       "      <td>Radiology\\nCHEST (PA &amp; LAT)\\n[**2187-7-16**] 8...</td>\n",
       "      <td>1</td>\n",
       "    </tr>\n",
       "    <tr>\n",
       "      <th>2</th>\n",
       "      <td>100037</td>\n",
       "      <td>58947</td>\n",
       "      <td>221136</td>\n",
       "      <td>58.40</td>\n",
       "      <td>27.79</td>\n",
       "      <td>15</td>\n",
       "      <td>Nursing\\nNursing Progress Note\\nNeutropenia\\n ...</td>\n",
       "      <td>0</td>\n",
       "    </tr>\n",
       "    <tr>\n",
       "      <th>3</th>\n",
       "      <td>100037</td>\n",
       "      <td>58947</td>\n",
       "      <td>221136</td>\n",
       "      <td>58.40</td>\n",
       "      <td>27.79</td>\n",
       "      <td>6</td>\n",
       "      <td>Radiology\\nCT HEAD W/O CONTRAST\\n[**Last Name ...</td>\n",
       "      <td>0</td>\n",
       "    </tr>\n",
       "    <tr>\n",
       "      <th>4</th>\n",
       "      <td>100037</td>\n",
       "      <td>58947</td>\n",
       "      <td>221136</td>\n",
       "      <td>58.40</td>\n",
       "      <td>27.79</td>\n",
       "      <td>15</td>\n",
       "      <td>Physician \\nPhysician Resident Admission Note\\...</td>\n",
       "      <td>0</td>\n",
       "    </tr>\n",
       "  </tbody>\n",
       "</table>\n",
       "</div>"
      ],
      "text/plain": [
       "   hadm_id  subject_id  icustay_id  admission_age  wait_period  chartinterval  \\\n",
       "0   100012       60039      239289          67.71         1.96              1   \n",
       "1   100036       30078      296976          82.87         3.80              1   \n",
       "2   100037       58947      221136          58.40        27.79             15   \n",
       "3   100037       58947      221136          58.40        27.79              6   \n",
       "4   100037       58947      221136          58.40        27.79             15   \n",
       "\n",
       "                                                note  class_label  \n",
       "0  Radiology\\nCHEST (PRE-OP PA & LAT)\\n[**2177-3-...            1  \n",
       "1  Radiology\\nCHEST (PA & LAT)\\n[**2187-7-16**] 8...            1  \n",
       "2  Nursing\\nNursing Progress Note\\nNeutropenia\\n ...            0  \n",
       "3  Radiology\\nCT HEAD W/O CONTRAST\\n[**Last Name ...            0  \n",
       "4  Physician \\nPhysician Resident Admission Note\\...            0  "
      ]
     },
     "execution_count": 7,
     "metadata": {},
     "output_type": "execute_result"
    }
   ],
   "source": [
    "df = fix_df(df)\n",
    "df.head()"
   ]
  },
  {
   "cell_type": "code",
   "execution_count": null,
   "metadata": {
    "ExecuteTime": {
     "end_time": "2019-04-26T11:24:24.592701Z",
     "start_time": "2019-04-26T11:24:24.578173Z"
    }
   },
   "outputs": [],
   "source": [
    "df['split'] = None\n",
    "df['is_sample'] = False"
   ]
  },
  {
   "cell_type": "code",
   "execution_count": 8,
   "metadata": {
    "ExecuteTime": {
     "end_time": "2019-04-26T12:24:03.913737Z",
     "start_time": "2019-04-26T12:24:03.897679Z"
    }
   },
   "outputs": [],
   "source": [
    "train_idxs, test_idxs = train_test_split(np.arange(len(df)), test_size=0.0)"
   ]
  },
  {
   "cell_type": "code",
   "execution_count": null,
   "metadata": {
    "ExecuteTime": {
     "end_time": "2019-04-26T11:24:50.026403Z",
     "start_time": "2019-04-26T11:24:49.997913Z"
    }
   },
   "outputs": [],
   "source": [
    "test_idxs, val_idxs = train_test_split(test_idxs, test_size=0.5)"
   ]
  },
  {
   "cell_type": "code",
   "execution_count": null,
   "metadata": {
    "ExecuteTime": {
     "end_time": "2019-04-26T11:24:50.609571Z",
     "start_time": "2019-04-26T11:24:50.590701Z"
    }
   },
   "outputs": [],
   "source": [
    "len(train_idxs), len(val_idxs), len(test_idxs)"
   ]
  },
  {
   "cell_type": "code",
   "execution_count": null,
   "metadata": {
    "ExecuteTime": {
     "end_time": "2019-04-26T11:25:10.223676Z",
     "start_time": "2019-04-26T11:25:10.181844Z"
    }
   },
   "outputs": [],
   "source": [
    "df.iloc[train_idxs, df.columns.get_loc('split')] = 'train'\n",
    "df.iloc[val_idxs, df.columns.get_loc('split')] = 'val'\n",
    "df.iloc[test_idxs, df.columns.get_loc('split')] = 'test'"
   ]
  },
  {
   "cell_type": "code",
   "execution_count": null,
   "metadata": {
    "ExecuteTime": {
     "end_time": "2019-04-26T11:26:27.450444Z",
     "start_time": "2019-04-26T11:26:27.435719Z"
    }
   },
   "outputs": [],
   "source": [
    "_, samp_idxs = train_test_split(train_idxs, test_size=0.1)"
   ]
  },
  {
   "cell_type": "code",
   "execution_count": null,
   "metadata": {
    "ExecuteTime": {
     "end_time": "2019-04-26T11:28:12.307834Z",
     "start_time": "2019-04-26T11:28:12.282341Z"
    }
   },
   "outputs": [],
   "source": [
    "df.iloc[samp_idxs, df.columns.get_loc('is_sample')] = True"
   ]
  },
  {
   "cell_type": "code",
   "execution_count": null,
   "metadata": {
    "ExecuteTime": {
     "end_time": "2019-04-26T11:36:32.008752Z",
     "start_time": "2019-04-26T11:36:31.991861Z"
    }
   },
   "outputs": [],
   "source": [
    "round(len(df[df['is_sample']])/len(df), 2)"
   ]
  },
  {
   "cell_type": "code",
   "execution_count": null,
   "metadata": {
    "ExecuteTime": {
     "end_time": "2019-04-26T11:36:37.402818Z",
     "start_time": "2019-04-26T11:36:37.383610Z"
    },
    "scrolled": false
   },
   "outputs": [],
   "source": [
    "math.isclose(round(len(df[df['is_sample'] == True])/len(df), 2), 0.08)"
   ]
  },
  {
   "cell_type": "code",
   "execution_count": null,
   "metadata": {
    "ExecuteTime": {
     "end_time": "2019-04-26T11:31:41.877442Z",
     "start_time": "2019-04-26T11:31:41.853899Z"
    }
   },
   "outputs": [],
   "source": [
    "len(df[(df['is_sample'] == True) & (df['split'] == 'train')]) == len(samp_idxs)"
   ]
  },
  {
   "cell_type": "code",
   "execution_count": null,
   "metadata": {
    "ExecuteTime": {
     "end_time": "2019-04-25T23:33:51.403672Z",
     "start_time": "2019-04-25T23:33:51.386871Z"
    }
   },
   "outputs": [],
   "source": [
    "x = np.array([3, 5, 1])"
   ]
  },
  {
   "cell_type": "code",
   "execution_count": null,
   "metadata": {
    "ExecuteTime": {
     "end_time": "2019-04-25T23:38:16.680880Z",
     "start_time": "2019-04-25T23:38:16.655485Z"
    }
   },
   "outputs": [],
   "source": [
    "df.reindex(train_idxs)['split'] = 'train'"
   ]
  },
  {
   "cell_type": "code",
   "execution_count": null,
   "metadata": {
    "ExecuteTime": {
     "end_time": "2019-04-25T23:38:00.041070Z",
     "start_time": "2019-04-25T23:38:00.023507Z"
    }
   },
   "outputs": [],
   "source": [
    "x['split'] = 'train'"
   ]
  },
  {
   "cell_type": "code",
   "execution_count": null,
   "metadata": {
    "ExecuteTime": {
     "end_time": "2019-04-25T23:38:02.167964Z",
     "start_time": "2019-04-25T23:38:02.144604Z"
    }
   },
   "outputs": [],
   "source": [
    "df[df['split'] == 'train']"
   ]
  },
  {
   "cell_type": "code",
   "execution_count": null,
   "metadata": {
    "ExecuteTime": {
     "end_time": "2019-04-25T23:33:32.459177Z",
     "start_time": "2019-04-25T23:33:32.404643Z"
    }
   },
   "outputs": [],
   "source": [
    "df.loc[train_idxs]"
   ]
  },
  {
   "cell_type": "code",
   "execution_count": null,
   "metadata": {
    "ExecuteTime": {
     "end_time": "2019-04-25T23:33:04.320820Z",
     "start_time": "2019-04-25T23:33:04.180360Z"
    }
   },
   "outputs": [],
   "source": [
    "df.loc[train_idxs,'split'] = 'train'"
   ]
  },
  {
   "cell_type": "code",
   "execution_count": null,
   "metadata": {
    "ExecuteTime": {
     "end_time": "2019-04-25T23:30:03.116172Z",
     "start_time": "2019-04-25T23:30:03.064150Z"
    }
   },
   "outputs": [],
   "source": [
    "df.iloc[train_idxs]['split'] = 'train'"
   ]
  },
  {
   "cell_type": "code",
   "execution_count": null,
   "metadata": {
    "ExecuteTime": {
     "end_time": "2019-04-25T23:31:15.942297Z",
     "start_time": "2019-04-25T23:31:15.934242Z"
    }
   },
   "outputs": [],
   "source": [
    "df.loc[0:10, 'split']"
   ]
  },
  {
   "cell_type": "code",
   "execution_count": null,
   "metadata": {
    "ExecuteTime": {
     "end_time": "2019-04-25T23:28:31.594483Z",
     "start_time": "2019-04-25T23:28:31.577183Z"
    }
   },
   "outputs": [],
   "source": [
    "# len(train_idxs) + len(val_idxs) + len(test_idxs)\n",
    "len(val_idxs) / len(df)"
   ]
  },
  {
   "cell_type": "code",
   "execution_count": null,
   "metadata": {
    "ExecuteTime": {
     "end_time": "2019-04-26T11:38:59.592290Z",
     "start_time": "2019-04-26T11:38:59.461176Z"
    }
   },
   "outputs": [],
   "source": [
    "classes = [None] * df['class_label'].nunique()\n",
    "for idx in range(len(classes)):\n",
    "    classes[idx] = df[df['class_label'] == idx].copy()\n",
    "    classes[idx].reset_index(inplace=True, drop=True)\n",
    "\n",
    "for idx in range(len(classes)):\n",
    "    classes[idx] = set_splits(classes[idx], 0.1, 0.1)\n",
    "\n",
    "df = pd.concat(classes, axis=0)"
   ]
  },
  {
   "cell_type": "code",
   "execution_count": null,
   "metadata": {
    "ExecuteTime": {
     "end_time": "2019-04-25T23:06:57.539613Z",
     "start_time": "2019-04-25T23:06:57.527201Z"
    }
   },
   "outputs": [],
   "source": [
    "df['is_sample'] = False"
   ]
  },
  {
   "cell_type": "code",
   "execution_count": null,
   "metadata": {
    "ExecuteTime": {
     "end_time": "2019-04-25T23:08:16.965241Z",
     "start_time": "2019-04-25T23:08:16.941658Z"
    }
   },
   "outputs": [],
   "source": [
    "samples = df[df['split'] == 'train']"
   ]
  },
  {
   "cell_type": "code",
   "execution_count": null,
   "metadata": {
    "ExecuteTime": {
     "end_time": "2019-04-25T23:09:02.275840Z",
     "start_time": "2019-04-25T23:09:02.229753Z"
    }
   },
   "outputs": [],
   "source": [
    "df_len = len(samples)\n",
    "idxs = list(range(df_len))\n",
    "random.shuffle(idxs)"
   ]
  },
  {
   "cell_type": "code",
   "execution_count": null,
   "metadata": {
    "ExecuteTime": {
     "end_time": "2019-04-25T23:09:57.706735Z",
     "start_time": "2019-04-25T23:09:57.597966Z"
    }
   },
   "outputs": [],
   "source": [
    "samp_idx = math.ceil(df_len * 0.1)\n",
    "samp_idxs = idxs[:samp_idx]\n",
    "samples.loc[samp_idxs, 'is_sample'] = True"
   ]
  },
  {
   "cell_type": "code",
   "execution_count": null,
   "metadata": {
    "ExecuteTime": {
     "end_time": "2019-04-25T21:08:32.906159Z",
     "start_time": "2019-04-25T21:08:32.822625Z"
    }
   },
   "outputs": [],
   "source": [
    "print(len(df[(df['class_label'] == 0) & (df['split'] == 'train')]), len(df[(df['class_label'] == 0) & (df['split'] == 'train')])/len(classes[0]))\n",
    "print(len(df[(df['class_label'] == 1) & (df['split'] == 'train')]), len(df[(df['class_label'] == 1) & (df['split'] == 'train')])/len(classes[1]))"
   ]
  },
  {
   "cell_type": "code",
   "execution_count": null,
   "metadata": {
    "ExecuteTime": {
     "end_time": "2019-04-25T21:08:36.332385Z",
     "start_time": "2019-04-25T21:08:33.909611Z"
    }
   },
   "outputs": [],
   "source": [
    "path = Path('./data')\n",
    "df.to_csv(path/'data.csv', index=False)"
   ]
  },
  {
   "cell_type": "code",
   "execution_count": null,
   "metadata": {
    "ExecuteTime": {
     "end_time": "2019-04-25T21:08:37.103444Z",
     "start_time": "2019-04-25T21:08:36.334523Z"
    }
   },
   "outputs": [],
   "source": [
    "df = pd.read_csv(path/'data.csv')\n",
    "df.head()"
   ]
  }
 ],
 "metadata": {
  "kernelspec": {
   "display_name": "Python 3",
   "language": "python",
   "name": "python3"
  },
  "language_info": {
   "codemirror_mode": {
    "name": "ipython",
    "version": 3
   },
   "file_extension": ".py",
   "mimetype": "text/x-python",
   "name": "python",
   "nbconvert_exporter": "python",
   "pygments_lexer": "ipython3",
   "version": "3.7.3"
  },
  "toc": {
   "base_numbering": 1,
   "nav_menu": {},
   "number_sections": true,
   "sideBar": true,
   "skip_h1_title": false,
   "title_cell": "Table of Contents",
   "title_sidebar": "Contents",
   "toc_cell": false,
   "toc_position": {},
   "toc_section_display": true,
   "toc_window_display": false
  }
 },
 "nbformat": 4,
 "nbformat_minor": 2
}
