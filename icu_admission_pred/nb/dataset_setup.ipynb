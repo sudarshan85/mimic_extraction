{
 "cells": [
  {
   "cell_type": "code",
   "execution_count": null,
   "metadata": {
    "ExecuteTime": {
     "end_time": "2019-04-25T21:00:32.988710Z",
     "start_time": "2019-04-25T21:00:32.974882Z"
    }
   },
   "outputs": [],
   "source": [
    "%load_ext autoreload\n",
    "%autoreload 2"
   ]
  },
  {
   "cell_type": "code",
   "execution_count": null,
   "metadata": {
    "ExecuteTime": {
     "end_time": "2019-04-25T21:00:33.244229Z",
     "start_time": "2019-04-25T21:00:32.990221Z"
    }
   },
   "outputs": [],
   "source": [
    "import psycopg2\n",
    "import random\n",
    "import math\n",
    "import pandas as pd\n",
    "from pathlib import Path"
   ]
  },
  {
   "cell_type": "code",
   "execution_count": null,
   "metadata": {
    "ExecuteTime": {
     "end_time": "2019-04-25T21:00:34.546703Z",
     "start_time": "2019-04-25T21:00:33.245850Z"
    }
   },
   "outputs": [],
   "source": [
    "con = psycopg2.connect(dbname='mimic', user='sudarshan', host='/var/run/postgresql')\n",
    "\n",
    "query = \"\"\"\n",
    "select hadm_id, subject_id, icustay_id, admission_age, wait_period, chartinterval, category, description, text, class_label from notes where class_label != -1 and length(text) between 100 and 8500\n",
    "\"\"\"\n",
    "df = pd.read_sql_query(query, con)\n",
    "con.close()\n",
    "df.head()"
   ]
  },
  {
   "cell_type": "code",
   "execution_count": null,
   "metadata": {
    "ExecuteTime": {
     "end_time": "2019-04-25T21:00:34.564197Z",
     "start_time": "2019-04-25T21:00:34.548268Z"
    }
   },
   "outputs": [],
   "source": [
    "def fix_df(df):\n",
    "    df.drop_duplicates(inplace=True)    \n",
    "    df['note'] = df['category'].str.cat(df['description'], sep='\\n')\n",
    "    df['note'] = df['note'].str.cat(df['text'], sep='\\n')\n",
    "    df.drop(['category', 'description', 'text'], axis=1, inplace=True)\n",
    "    cols = list(df.columns)\n",
    "    cols[-1] = 'class_label'\n",
    "    cols[-2] = 'note'\n",
    "    df = df.reindex(cols, axis=1)\n",
    "    return df\n",
    "\n",
    "def set_splits(df, val_pct, test_pct=None):\n",
    "    df['split'] = 'train'\n",
    "    df_len = len(df)\n",
    "    idxs = list(range(df_len))\n",
    "    random.shuffle(idxs)\n",
    "\n",
    "    val_idx = math.ceil(df_len * val_pct)\n",
    "    val_idxs = idxs[:val_idx]\n",
    "    df.loc[val_idxs, 'split'] = 'val'\n",
    "\n",
    "    if test_pct:\n",
    "        test_idx = val_idx + math.ceil(df_len * test_pct)\n",
    "        test_idxs = idxs[val_idx:test_idx]\n",
    "        df.loc[test_idxs, 'split'] = 'test'\n",
    "\n",
    "    return df"
   ]
  },
  {
   "cell_type": "code",
   "execution_count": null,
   "metadata": {
    "ExecuteTime": {
     "end_time": "2019-04-25T21:00:34.943573Z",
     "start_time": "2019-04-25T21:00:34.566176Z"
    }
   },
   "outputs": [],
   "source": [
    "df = fix_df(df)"
   ]
  },
  {
   "cell_type": "code",
   "execution_count": null,
   "metadata": {
    "ExecuteTime": {
     "end_time": "2019-04-25T20:59:10.615735Z",
     "start_time": "2019-04-25T20:59:10.585579Z"
    }
   },
   "outputs": [],
   "source": [
    "classes = [None] * df['class_label'].nunique()\n",
    "for idx in range(len(classes)):\n",
    "    classes[idx] = df[df['class_label'] == idx].copy()"
   ]
  },
  {
   "cell_type": "code",
   "execution_count": null,
   "metadata": {
    "ExecuteTime": {
     "end_time": "2019-04-25T20:56:32.066351Z",
     "start_time": "2019-04-25T20:56:32.004755Z"
    }
   },
   "outputs": [],
   "source": [
    "for idx in range(len(classes)):\n",
    "    classes[idx] = set_splits(classes[idx], 0.1, 0.1)"
   ]
  },
  {
   "cell_type": "code",
   "execution_count": null,
   "metadata": {
    "ExecuteTime": {
     "end_time": "2019-04-25T20:55:14.170419Z",
     "start_time": "2019-04-25T20:55:14.093796Z"
    }
   },
   "outputs": [],
   "source": [
    "df = pd.concat(classes, axis=0)"
   ]
  },
  {
   "cell_type": "code",
   "execution_count": null,
   "metadata": {
    "ExecuteTime": {
     "end_time": "2019-04-25T20:54:30.089857Z",
     "start_time": "2019-04-25T20:54:28.016Z"
    }
   },
   "outputs": [],
   "source": [
    "print(len(df[(df['class_label'] == 0) & (df['split'] == 'train')]), len(df[(df['class_label'] == 0) & (df['split'] == 'train')])/len(classes[0]))\n",
    "print(len(df[(df['class_label'] == 1) & (df['split'] == 'train')]), len(df[(df['class_label'] == 1) & (df['split'] == 'train')])/len(classes[1]))"
   ]
  },
  {
   "cell_type": "code",
   "execution_count": null,
   "metadata": {
    "ExecuteTime": {
     "end_time": "2019-04-25T20:54:30.090696Z",
     "start_time": "2019-04-25T20:54:28.017Z"
    }
   },
   "outputs": [],
   "source": [
    "path = Path('./data')\n",
    "df.to_csv(path/'data.csv', index=False)"
   ]
  },
  {
   "cell_type": "code",
   "execution_count": null,
   "metadata": {
    "ExecuteTime": {
     "end_time": "2019-04-25T20:52:14.952266Z",
     "start_time": "2019-04-25T20:52:14.201047Z"
    }
   },
   "outputs": [],
   "source": [
    "df = pd.read_csv(path/'data.csv')\n",
    "df.head()"
   ]
  }
 ],
 "metadata": {
  "kernelspec": {
   "display_name": "Python 3",
   "language": "python",
   "name": "python3"
  },
  "language_info": {
   "codemirror_mode": {
    "name": "ipython",
    "version": 3
   },
   "file_extension": ".py",
   "mimetype": "text/x-python",
   "name": "python",
   "nbconvert_exporter": "python",
   "pygments_lexer": "ipython3",
   "version": "3.7.3"
  },
  "toc": {
   "base_numbering": 1,
   "nav_menu": {},
   "number_sections": true,
   "sideBar": true,
   "skip_h1_title": false,
   "title_cell": "Table of Contents",
   "title_sidebar": "Contents",
   "toc_cell": false,
   "toc_position": {},
   "toc_section_display": true,
   "toc_window_display": false
  }
 },
 "nbformat": 4,
 "nbformat_minor": 2
}
