{
 "cells": [
  {
   "cell_type": "code",
   "execution_count": null,
   "metadata": {
    "ExecuteTime": {
     "end_time": "2019-04-17T19:47:06.945133Z",
     "start_time": "2019-04-17T19:47:06.927720Z"
    }
   },
   "outputs": [],
   "source": [
    "%load_ext autoreload\n",
    "%autoreload 2"
   ]
  },
  {
   "cell_type": "code",
   "execution_count": null,
   "metadata": {
    "ExecuteTime": {
     "end_time": "2019-04-17T19:47:07.511403Z",
     "start_time": "2019-04-17T19:47:06.947795Z"
    }
   },
   "outputs": [],
   "source": [
    "import psycopg2\n",
    "import pandas as pd\n",
    "import seaborn as sns\n",
    "from pathlib import Path\n",
    "import matplotlib.pyplot as plt\n",
    "%matplotlib inline\n",
    "\n",
    "sns.set(style = 'darkgrid')"
   ]
  },
  {
   "cell_type": "code",
   "execution_count": null,
   "metadata": {
    "ExecuteTime": {
     "end_time": "2019-04-17T20:12:37.828784Z",
     "start_time": "2019-04-17T20:12:37.805310Z"
    }
   },
   "outputs": [],
   "source": [
    "con = psycopg2.connect(dbname='mimic', user='sudarshan', host='/var/run/postgresql')"
   ]
  },
  {
   "cell_type": "code",
   "execution_count": null,
   "metadata": {
    "ExecuteTime": {
     "end_time": "2019-04-17T19:47:07.622557Z",
     "start_time": "2019-04-17T19:47:07.536428Z"
    },
    "scrolled": false
   },
   "outputs": [],
   "source": [
    "query = \"\"\"\n",
    "select count(*) as n_notes from data group by chartinterval order by chartinterval;\n",
    "\"\"\"\n",
    "\n",
    "df = pd.read_sql_query(query, con)\n",
    "intervals = ['0 < t < 12', '12 < t < 24', '24 < t < 36', '36 < t < 48', '48 < t < 60', '60 < t < 72', '72 < t < 84', '84 < t < 96', '96 < t < 108', '108 < t < 120', '120 < t 132', '132 < t < 144', '144 < t < 156', '156 < t < 168', '168 < t < 180', 't > 180']\n",
    "df['hours'] = intervals\n",
    "\n",
    "df"
   ]
  },
  {
   "cell_type": "code",
   "execution_count": null,
   "metadata": {
    "ExecuteTime": {
     "end_time": "2019-04-17T19:47:08.051740Z",
     "start_time": "2019-04-17T19:47:07.624096Z"
    }
   },
   "outputs": [],
   "source": [
    "fig, ax = plt.subplots(figsize=(15, 10))\n",
    "\n",
    "sns.barplot(x='hours', y='n_notes', data=df, ax=ax)\n",
    "ax.set_xticklabels(ax.get_xticklabels(),rotation=45, ha='right', fontweight='bold', fontsize=12)\n",
    "ax.set_xlabel(\"Time between note chart time and ICU admit time (hours)\\n 't' is the time-to-ICU admit time\", fontweight='bold', fontsize=15)\n",
    "ax.set_ylabel('Number of notes', fontweight='bold', fontsize=15)\n",
    "ax.set_title('Distribution of notes w.r.t chart time and ICU admit time', fontweight='bold', fontsize=15)\n",
    "ax.set_ylim(top=17000)\n",
    "\n",
    "ax.text(7, 14000, 'Total number of notes = 52,391', fontweight='bold', fontsize=15, ha='center', va='bottom')\n",
    "\n",
    "for index, row in df.iterrows():\n",
    "    ax.text(index, row['n_notes'], str(row['n_notes']), color='black', ha='center', va='bottom', fontweight='bold', fontsize=12)"
   ]
  },
  {
   "cell_type": "code",
   "execution_count": null,
   "metadata": {
    "ExecuteTime": {
     "end_time": "2019-04-17T19:59:21.340913Z",
     "start_time": "2019-04-17T19:59:21.288325Z"
    }
   },
   "outputs": [],
   "source": [
    "query = \"\"\"\n",
    "select hadm_id, count(*) as n_notes from data group by hadm_id order by hadm_id;\n",
    "\"\"\"\n",
    "df = pd.read_sql_query(query, con)\n",
    "df.head()"
   ]
  },
  {
   "cell_type": "code",
   "execution_count": null,
   "metadata": {
    "ExecuteTime": {
     "end_time": "2019-04-17T19:54:56.993374Z",
     "start_time": "2019-04-17T19:54:56.212780Z"
    }
   },
   "outputs": [],
   "source": [
    "fig, ax = plt.subplots(figsize=(15, 10))\n",
    "\n",
    "sns.distplot(df['n_notes'], kde=False, ax=ax, rug=True, bins=100)\n",
    "ax.set_xlabel('Number of notes', fontweight='bold', fontsize=15)\n",
    "ax.set_ylabel('Number of hospital admissions', fontweight='bold', fontsize=15)\n",
    "ax.set_title('Histogram of note distribution Vs number of hospital admissions', fontweight='bold', fontsize=15)\n",
    "ax.set_ylim(0, 5500)\n",
    "ax.set_xlim(0, 40)\n",
    "\n",
    "ax.text(20, 4500, 'Total number of hospital admissions = 10,610', fontweight='bold', fontsize=15, ha='center', va='bottom')"
   ]
  },
  {
   "cell_type": "code",
   "execution_count": null,
   "metadata": {
    "ExecuteTime": {
     "end_time": "2019-04-17T20:14:16.207864Z",
     "start_time": "2019-04-17T20:14:16.129374Z"
    }
   },
   "outputs": [],
   "source": [
    "query = \"\"\"\n",
    "select hadm_id, avg(wait_period) as avg_wait_period from data group by hadm_id order by hadm_id;\n",
    "\"\"\"\n",
    "df = pd.read_sql_query(query, con)\n",
    "df.head()"
   ]
  },
  {
   "cell_type": "code",
   "execution_count": null,
   "metadata": {
    "ExecuteTime": {
     "end_time": "2019-04-17T20:14:16.230664Z",
     "start_time": "2019-04-17T20:14:16.209669Z"
    }
   },
   "outputs": [],
   "source": [
    "df['avg_wait_period'].min(), df['avg_wait_period'].mean(), df['avg_wait_period'].max()"
   ]
  },
  {
   "cell_type": "code",
   "execution_count": null,
   "metadata": {
    "ExecuteTime": {
     "end_time": "2019-04-17T20:15:44.739363Z",
     "start_time": "2019-04-17T20:15:44.322100Z"
    }
   },
   "outputs": [],
   "source": [
    "fig, ax = plt.subplots(figsize=(15, 10))\n",
    "\n",
    "sns.distplot(df['avg_wait_period'], kde=False, ax=ax, bins=100)\n",
    "ax.set_xlabel('Average wait_period per admission (hours)', fontweight='bold', fontsize=15)\n",
    "ax.set_ylabel('Number of hospital admissions', fontweight='bold', fontsize=15)\n",
    "ax.set_title('Histogram of average wait_period Vs number of hospital admissions', fontweight='bold', fontsize=15)\n",
    "ax.set_xlim(0, 600)\n",
    "\n",
    "ax.text(300, 3000, 'Total number of hospital admissions = 10,610', fontweight='bold', fontsize=15, ha='center', va='bottom')"
   ]
  },
  {
   "cell_type": "code",
   "execution_count": null,
   "metadata": {
    "ExecuteTime": {
     "end_time": "2019-04-17T20:12:44.132636Z",
     "start_time": "2019-04-17T20:12:44.066796Z"
    }
   },
   "outputs": [],
   "source": [
    "query = \"\"\"\n",
    "with test as (select subject_id, count(distinct hadm_id) as n_adms from data group by subject_id order by subject_id) select n_adms, count(*) from test group by n_adms order by n_adms;\n",
    "\"\"\"\n",
    "df = pd.read_sql_query(query, con)\n",
    "df.head()"
   ]
  },
  {
   "cell_type": "code",
   "execution_count": null,
   "metadata": {
    "ExecuteTime": {
     "end_time": "2019-04-17T20:12:44.352111Z",
     "start_time": "2019-04-17T20:12:44.135013Z"
    }
   },
   "outputs": [],
   "source": [
    "fig, ax = plt.subplots(figsize=(15, 10))\n",
    "\n",
    "sns.barplot(x='n_adms', y='count', data=df, ax=ax)\n",
    "ax.set_xlabel(\"Count of number of admissions\", fontweight='bold', fontsize=15)\n",
    "ax.set_ylabel('Number of admissions', fontweight='bold', fontsize=15)\n",
    "ax.set_title('Distribution of count of number of admissions', fontweight='bold', fontsize=15)\n",
    "for index, row in df.iterrows():\n",
    "    ax.text(index, row['count'], str(row['count']), color='black', ha='center', va='bottom', fontweight='bold', fontsize=12)"
   ]
  },
  {
   "cell_type": "code",
   "execution_count": null,
   "metadata": {
    "ExecuteTime": {
     "end_time": "2019-04-17T20:17:47.791235Z",
     "start_time": "2019-04-17T20:17:47.773317Z"
    }
   },
   "outputs": [],
   "source": [
    "con.close()"
   ]
  }
 ],
 "metadata": {
  "kernelspec": {
   "display_name": "Python 3",
   "language": "python",
   "name": "python3"
  },
  "language_info": {
   "codemirror_mode": {
    "name": "ipython",
    "version": 3
   },
   "file_extension": ".py",
   "mimetype": "text/x-python",
   "name": "python",
   "nbconvert_exporter": "python",
   "pygments_lexer": "ipython3",
   "version": "3.7.3"
  },
  "toc": {
   "base_numbering": 1,
   "nav_menu": {},
   "number_sections": true,
   "sideBar": true,
   "skip_h1_title": false,
   "title_cell": "Table of Contents",
   "title_sidebar": "Contents",
   "toc_cell": false,
   "toc_position": {},
   "toc_section_display": true,
   "toc_window_display": false
  }
 },
 "nbformat": 4,
 "nbformat_minor": 2
}
