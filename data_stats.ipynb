{
 "cells": [
  {
   "cell_type": "code",
   "execution_count": 1,
   "metadata": {
    "ExecuteTime": {
     "end_time": "2019-04-17T21:57:37.870225Z",
     "start_time": "2019-04-17T21:57:37.857588Z"
    }
   },
   "outputs": [],
   "source": [
    "%load_ext autoreload\n",
    "%autoreload 2"
   ]
  },
  {
   "cell_type": "code",
   "execution_count": 2,
   "metadata": {
    "ExecuteTime": {
     "end_time": "2019-04-17T21:57:38.430149Z",
     "start_time": "2019-04-17T21:57:37.871778Z"
    }
   },
   "outputs": [],
   "source": [
    "import psycopg2\n",
    "import pandas as pd\n",
    "import seaborn as sns\n",
    "from pathlib import Path\n",
    "import matplotlib.pyplot as plt\n",
    "%matplotlib inline\n",
    "\n",
    "sns.set(style = 'darkgrid')"
   ]
  },
  {
   "cell_type": "code",
   "execution_count": 3,
   "metadata": {
    "ExecuteTime": {
     "end_time": "2019-04-17T21:57:38.450202Z",
     "start_time": "2019-04-17T21:57:38.432416Z"
    }
   },
   "outputs": [],
   "source": [
    "con = psycopg2.connect(dbname='mimic', user='sudarshan', host='/var/run/postgresql')"
   ]
  },
  {
   "cell_type": "code",
   "execution_count": 4,
   "metadata": {
    "ExecuteTime": {
     "end_time": "2019-04-17T21:57:38.573115Z",
     "start_time": "2019-04-17T21:57:38.452485Z"
    },
    "scrolled": false
   },
   "outputs": [
    {
     "data": {
      "text/html": [
       "<div>\n",
       "<style scoped>\n",
       "    .dataframe tbody tr th:only-of-type {\n",
       "        vertical-align: middle;\n",
       "    }\n",
       "\n",
       "    .dataframe tbody tr th {\n",
       "        vertical-align: top;\n",
       "    }\n",
       "\n",
       "    .dataframe thead th {\n",
       "        text-align: right;\n",
       "    }\n",
       "</style>\n",
       "<table border=\"1\" class=\"dataframe\">\n",
       "  <thead>\n",
       "    <tr style=\"text-align: right;\">\n",
       "      <th></th>\n",
       "      <th>hours</th>\n",
       "      <th>Legend</th>\n",
       "      <th>counts</th>\n",
       "    </tr>\n",
       "  </thead>\n",
       "  <tbody>\n",
       "    <tr>\n",
       "      <th>0</th>\n",
       "      <td>0 &lt; t &lt; 12</td>\n",
       "      <td>Number of Notes</td>\n",
       "      <td>15523</td>\n",
       "    </tr>\n",
       "    <tr>\n",
       "      <th>1</th>\n",
       "      <td>12 &lt; t &lt; 24</td>\n",
       "      <td>Number of Notes</td>\n",
       "      <td>6147</td>\n",
       "    </tr>\n",
       "    <tr>\n",
       "      <th>2</th>\n",
       "      <td>24 &lt; t &lt; 36</td>\n",
       "      <td>Number of Notes</td>\n",
       "      <td>4364</td>\n",
       "    </tr>\n",
       "    <tr>\n",
       "      <th>3</th>\n",
       "      <td>36 &lt; t &lt; 48</td>\n",
       "      <td>Number of Notes</td>\n",
       "      <td>3042</td>\n",
       "    </tr>\n",
       "    <tr>\n",
       "      <th>4</th>\n",
       "      <td>48 &lt; t &lt; 60</td>\n",
       "      <td>Number of Notes</td>\n",
       "      <td>2722</td>\n",
       "    </tr>\n",
       "    <tr>\n",
       "      <th>5</th>\n",
       "      <td>60 &lt; t &lt; 72</td>\n",
       "      <td>Number of Notes</td>\n",
       "      <td>2069</td>\n",
       "    </tr>\n",
       "    <tr>\n",
       "      <th>6</th>\n",
       "      <td>72 &lt; t &lt; 84</td>\n",
       "      <td>Number of Notes</td>\n",
       "      <td>2009</td>\n",
       "    </tr>\n",
       "    <tr>\n",
       "      <th>7</th>\n",
       "      <td>84 &lt; t &lt; 96</td>\n",
       "      <td>Number of Notes</td>\n",
       "      <td>1604</td>\n",
       "    </tr>\n",
       "    <tr>\n",
       "      <th>8</th>\n",
       "      <td>96 &lt; t &lt; 108</td>\n",
       "      <td>Number of Notes</td>\n",
       "      <td>1407</td>\n",
       "    </tr>\n",
       "    <tr>\n",
       "      <th>9</th>\n",
       "      <td>108 &lt; t &lt; 120</td>\n",
       "      <td>Number of Notes</td>\n",
       "      <td>1189</td>\n",
       "    </tr>\n",
       "    <tr>\n",
       "      <th>10</th>\n",
       "      <td>120 &lt; t 132</td>\n",
       "      <td>Number of Notes</td>\n",
       "      <td>1105</td>\n",
       "    </tr>\n",
       "    <tr>\n",
       "      <th>11</th>\n",
       "      <td>132 &lt; t &lt; 144</td>\n",
       "      <td>Number of Notes</td>\n",
       "      <td>884</td>\n",
       "    </tr>\n",
       "    <tr>\n",
       "      <th>12</th>\n",
       "      <td>144 &lt; t &lt; 156</td>\n",
       "      <td>Number of Notes</td>\n",
       "      <td>882</td>\n",
       "    </tr>\n",
       "    <tr>\n",
       "      <th>13</th>\n",
       "      <td>156 &lt; t &lt; 168</td>\n",
       "      <td>Number of Notes</td>\n",
       "      <td>711</td>\n",
       "    </tr>\n",
       "    <tr>\n",
       "      <th>14</th>\n",
       "      <td>168 &lt; t &lt; 180</td>\n",
       "      <td>Number of Notes</td>\n",
       "      <td>671</td>\n",
       "    </tr>\n",
       "    <tr>\n",
       "      <th>15</th>\n",
       "      <td>t &gt; 180</td>\n",
       "      <td>Number of Notes</td>\n",
       "      <td>8062</td>\n",
       "    </tr>\n",
       "    <tr>\n",
       "      <th>16</th>\n",
       "      <td>0 &lt; t &lt; 12</td>\n",
       "      <td>Number of Admissions</td>\n",
       "      <td>6236</td>\n",
       "    </tr>\n",
       "    <tr>\n",
       "      <th>17</th>\n",
       "      <td>12 &lt; t &lt; 24</td>\n",
       "      <td>Number of Admissions</td>\n",
       "      <td>3006</td>\n",
       "    </tr>\n",
       "    <tr>\n",
       "      <th>18</th>\n",
       "      <td>24 &lt; t &lt; 36</td>\n",
       "      <td>Number of Admissions</td>\n",
       "      <td>2005</td>\n",
       "    </tr>\n",
       "    <tr>\n",
       "      <th>19</th>\n",
       "      <td>36 &lt; t &lt; 48</td>\n",
       "      <td>Number of Admissions</td>\n",
       "      <td>1498</td>\n",
       "    </tr>\n",
       "    <tr>\n",
       "      <th>20</th>\n",
       "      <td>48 &lt; t &lt; 60</td>\n",
       "      <td>Number of Admissions</td>\n",
       "      <td>1270</td>\n",
       "    </tr>\n",
       "    <tr>\n",
       "      <th>21</th>\n",
       "      <td>60 &lt; t &lt; 72</td>\n",
       "      <td>Number of Admissions</td>\n",
       "      <td>1091</td>\n",
       "    </tr>\n",
       "    <tr>\n",
       "      <th>22</th>\n",
       "      <td>72 &lt; t &lt; 84</td>\n",
       "      <td>Number of Admissions</td>\n",
       "      <td>924</td>\n",
       "    </tr>\n",
       "    <tr>\n",
       "      <th>23</th>\n",
       "      <td>84 &lt; t &lt; 96</td>\n",
       "      <td>Number of Admissions</td>\n",
       "      <td>745</td>\n",
       "    </tr>\n",
       "    <tr>\n",
       "      <th>24</th>\n",
       "      <td>96 &lt; t &lt; 108</td>\n",
       "      <td>Number of Admissions</td>\n",
       "      <td>671</td>\n",
       "    </tr>\n",
       "    <tr>\n",
       "      <th>25</th>\n",
       "      <td>108 &lt; t &lt; 120</td>\n",
       "      <td>Number of Admissions</td>\n",
       "      <td>572</td>\n",
       "    </tr>\n",
       "    <tr>\n",
       "      <th>26</th>\n",
       "      <td>120 &lt; t 132</td>\n",
       "      <td>Number of Admissions</td>\n",
       "      <td>514</td>\n",
       "    </tr>\n",
       "    <tr>\n",
       "      <th>27</th>\n",
       "      <td>132 &lt; t &lt; 144</td>\n",
       "      <td>Number of Admissions</td>\n",
       "      <td>411</td>\n",
       "    </tr>\n",
       "    <tr>\n",
       "      <th>28</th>\n",
       "      <td>144 &lt; t &lt; 156</td>\n",
       "      <td>Number of Admissions</td>\n",
       "      <td>417</td>\n",
       "    </tr>\n",
       "    <tr>\n",
       "      <th>29</th>\n",
       "      <td>156 &lt; t &lt; 168</td>\n",
       "      <td>Number of Admissions</td>\n",
       "      <td>332</td>\n",
       "    </tr>\n",
       "    <tr>\n",
       "      <th>30</th>\n",
       "      <td>168 &lt; t &lt; 180</td>\n",
       "      <td>Number of Admissions</td>\n",
       "      <td>304</td>\n",
       "    </tr>\n",
       "    <tr>\n",
       "      <th>31</th>\n",
       "      <td>t &gt; 180</td>\n",
       "      <td>Number of Admissions</td>\n",
       "      <td>985</td>\n",
       "    </tr>\n",
       "  </tbody>\n",
       "</table>\n",
       "</div>"
      ],
      "text/plain": [
       "            hours                Legend  counts\n",
       "0      0 < t < 12       Number of Notes   15523\n",
       "1     12 < t < 24       Number of Notes    6147\n",
       "2     24 < t < 36       Number of Notes    4364\n",
       "3     36 < t < 48       Number of Notes    3042\n",
       "4     48 < t < 60       Number of Notes    2722\n",
       "5     60 < t < 72       Number of Notes    2069\n",
       "6     72 < t < 84       Number of Notes    2009\n",
       "7     84 < t < 96       Number of Notes    1604\n",
       "8    96 < t < 108       Number of Notes    1407\n",
       "9   108 < t < 120       Number of Notes    1189\n",
       "10    120 < t 132       Number of Notes    1105\n",
       "11  132 < t < 144       Number of Notes     884\n",
       "12  144 < t < 156       Number of Notes     882\n",
       "13  156 < t < 168       Number of Notes     711\n",
       "14  168 < t < 180       Number of Notes     671\n",
       "15        t > 180       Number of Notes    8062\n",
       "16     0 < t < 12  Number of Admissions    6236\n",
       "17    12 < t < 24  Number of Admissions    3006\n",
       "18    24 < t < 36  Number of Admissions    2005\n",
       "19    36 < t < 48  Number of Admissions    1498\n",
       "20    48 < t < 60  Number of Admissions    1270\n",
       "21    60 < t < 72  Number of Admissions    1091\n",
       "22    72 < t < 84  Number of Admissions     924\n",
       "23    84 < t < 96  Number of Admissions     745\n",
       "24   96 < t < 108  Number of Admissions     671\n",
       "25  108 < t < 120  Number of Admissions     572\n",
       "26    120 < t 132  Number of Admissions     514\n",
       "27  132 < t < 144  Number of Admissions     411\n",
       "28  144 < t < 156  Number of Admissions     417\n",
       "29  156 < t < 168  Number of Admissions     332\n",
       "30  168 < t < 180  Number of Admissions     304\n",
       "31        t > 180  Number of Admissions     985"
      ]
     },
     "execution_count": 4,
     "metadata": {},
     "output_type": "execute_result"
    }
   ],
   "source": [
    "query = \"\"\"\n",
    "select count(*) as n_notes, count(distinct hadm_id) as n_adms from data group by chartinterval order by chartinterval;\n",
    "\"\"\"\n",
    "\n",
    "df = pd.read_sql_query(query, con)\n",
    "intervals = ['0 < t < 12', '12 < t < 24', '24 < t < 36', '36 < t < 48', '48 < t < 60', '60 < t < 72', '72 < t < 84', '84 < t < 96', '96 < t < 108', '108 < t < 120', '120 < t 132', '132 < t < 144', '144 < t < 156', '156 < t < 168', '168 < t < 180', 't > 180']\n",
    "\n",
    "df.rename(columns={'n_adms':'Number of Admissions', 'n_notes':'Number of Notes'}, inplace=True)\n",
    "df['hours'] = intervals\n",
    "df = pd.melt(df, id_vars='hours', var_name='Legend', value_name='counts')\n",
    "df"
   ]
  },
  {
   "cell_type": "code",
   "execution_count": 5,
   "metadata": {
    "ExecuteTime": {
     "end_time": "2019-04-17T21:57:38.655255Z",
     "start_time": "2019-04-17T21:57:38.574980Z"
    }
   },
   "outputs": [
    {
     "data": {
      "text/html": [
       "<div>\n",
       "<style scoped>\n",
       "    .dataframe tbody tr th:only-of-type {\n",
       "        vertical-align: middle;\n",
       "    }\n",
       "\n",
       "    .dataframe tbody tr th {\n",
       "        vertical-align: top;\n",
       "    }\n",
       "\n",
       "    .dataframe thead th {\n",
       "        text-align: right;\n",
       "    }\n",
       "</style>\n",
       "<table border=\"1\" class=\"dataframe\">\n",
       "  <thead>\n",
       "    <tr style=\"text-align: right;\">\n",
       "      <th></th>\n",
       "      <th>hadm_id</th>\n",
       "      <th>n_notes</th>\n",
       "    </tr>\n",
       "  </thead>\n",
       "  <tbody>\n",
       "    <tr>\n",
       "      <th>0</th>\n",
       "      <td>100009</td>\n",
       "      <td>2</td>\n",
       "    </tr>\n",
       "    <tr>\n",
       "      <th>1</th>\n",
       "      <td>100012</td>\n",
       "      <td>2</td>\n",
       "    </tr>\n",
       "    <tr>\n",
       "      <th>2</th>\n",
       "      <td>100018</td>\n",
       "      <td>8</td>\n",
       "    </tr>\n",
       "    <tr>\n",
       "      <th>3</th>\n",
       "      <td>100020</td>\n",
       "      <td>16</td>\n",
       "    </tr>\n",
       "    <tr>\n",
       "      <th>4</th>\n",
       "      <td>100021</td>\n",
       "      <td>6</td>\n",
       "    </tr>\n",
       "  </tbody>\n",
       "</table>\n",
       "</div>"
      ],
      "text/plain": [
       "   hadm_id  n_notes\n",
       "0   100009        2\n",
       "1   100012        2\n",
       "2   100018        8\n",
       "3   100020       16\n",
       "4   100021        6"
      ]
     },
     "execution_count": 5,
     "metadata": {},
     "output_type": "execute_result"
    }
   ],
   "source": [
    "query = \"\"\"\n",
    "select hadm_id, count(*) as n_notes from data group by hadm_id order by hadm_id;\n",
    "\"\"\"\n",
    "df = pd.read_sql_query(query, con)\n",
    "df.head()"
   ]
  },
  {
   "cell_type": "code",
   "execution_count": 6,
   "metadata": {
    "ExecuteTime": {
     "end_time": "2019-04-17T21:57:39.369406Z",
     "start_time": "2019-04-17T21:57:38.656654Z"
    }
   },
   "outputs": [
    {
     "data": {
      "text/plain": [
       "Text(20, 4500, 'Total number of hospital admissions = 10,610')"
      ]
     },
     "execution_count": 6,
     "metadata": {},
     "output_type": "execute_result"
    },
    {
     "data": {
      "image/png": "[encoded data removed]",
      "text/plain": [
       "<Figure size 1080x720 with 1 Axes>"
      ]
     },
     "metadata": {
      "needs_background": "light"
     },
     "output_type": "display_data"
    }
   ],
   "source": [
    "fig, ax = plt.subplots(figsize=(15, 10))\n",
    "\n",
    "sns.distplot(df['n_notes'], kde=False, ax=ax, rug=True, bins=100)\n",
    "ax.set_xlabel('Number of notes', fontweight='bold', fontsize=15)\n",
    "ax.set_ylabel('Number of hospital admissions', fontweight='bold', fontsize=15)\n",
    "ax.set_title('Histogram of note distribution Vs number of hospital admissions', fontweight='bold', fontsize=15)\n",
    "ax.set_ylim(0, 5500)\n",
    "ax.set_xlim(0, 40)\n",
    "\n",
    "ax.text(20, 4500, 'Total number of hospital admissions = 10,610', fontweight='bold', fontsize=15, ha='center', va='bottom')"
   ]
  },
  {
   "cell_type": "code",
   "execution_count": 7,
   "metadata": {
    "ExecuteTime": {
     "end_time": "2019-04-17T21:57:39.455876Z",
     "start_time": "2019-04-17T21:57:39.371215Z"
    }
   },
   "outputs": [
    {
     "data": {
      "text/html": [
       "<div>\n",
       "<style scoped>\n",
       "    .dataframe tbody tr th:only-of-type {\n",
       "        vertical-align: middle;\n",
       "    }\n",
       "\n",
       "    .dataframe tbody tr th {\n",
       "        vertical-align: top;\n",
       "    }\n",
       "\n",
       "    .dataframe thead th {\n",
       "        text-align: right;\n",
       "    }\n",
       "</style>\n",
       "<table border=\"1\" class=\"dataframe\">\n",
       "  <thead>\n",
       "    <tr style=\"text-align: right;\">\n",
       "      <th></th>\n",
       "      <th>hadm_id</th>\n",
       "      <th>avg_wait_period</th>\n",
       "    </tr>\n",
       "  </thead>\n",
       "  <tbody>\n",
       "    <tr>\n",
       "      <th>0</th>\n",
       "      <td>100009</td>\n",
       "      <td>18.38</td>\n",
       "    </tr>\n",
       "    <tr>\n",
       "      <th>1</th>\n",
       "      <td>100012</td>\n",
       "      <td>47.07</td>\n",
       "    </tr>\n",
       "    <tr>\n",
       "      <th>2</th>\n",
       "      <td>100018</td>\n",
       "      <td>6.44</td>\n",
       "    </tr>\n",
       "    <tr>\n",
       "      <th>3</th>\n",
       "      <td>100020</td>\n",
       "      <td>21.22</td>\n",
       "    </tr>\n",
       "    <tr>\n",
       "      <th>4</th>\n",
       "      <td>100021</td>\n",
       "      <td>105.13</td>\n",
       "    </tr>\n",
       "  </tbody>\n",
       "</table>\n",
       "</div>"
      ],
      "text/plain": [
       "   hadm_id  avg_wait_period\n",
       "0   100009            18.38\n",
       "1   100012            47.07\n",
       "2   100018             6.44\n",
       "3   100020            21.22\n",
       "4   100021           105.13"
      ]
     },
     "execution_count": 7,
     "metadata": {},
     "output_type": "execute_result"
    }
   ],
   "source": [
    "query = \"\"\"\n",
    "select hadm_id, avg(wait_period) as avg_wait_period from data group by hadm_id order by hadm_id;\n",
    "\"\"\"\n",
    "df = pd.read_sql_query(query, con)\n",
    "df.head()"
   ]
  },
  {
   "cell_type": "code",
   "execution_count": 8,
   "metadata": {
    "ExecuteTime": {
     "end_time": "2019-04-17T21:57:39.473590Z",
     "start_time": "2019-04-17T21:57:39.458178Z"
    }
   },
   "outputs": [
    {
     "data": {
      "text/plain": [
       "(0.01, 86.84440716305372, 3269.1)"
      ]
     },
     "execution_count": 8,
     "metadata": {},
     "output_type": "execute_result"
    }
   ],
   "source": [
    "df['avg_wait_period'].min(), df['avg_wait_period'].mean(), df['avg_wait_period'].max()"
   ]
  },
  {
   "cell_type": "code",
   "execution_count": 9,
   "metadata": {
    "ExecuteTime": {
     "end_time": "2019-04-17T21:57:39.884985Z",
     "start_time": "2019-04-17T21:57:39.475314Z"
    }
   },
   "outputs": [
    {
     "data": {
      "text/plain": [
       "Text(300, 3000, 'Total number of hospital admissions = 10,610')"
      ]
     },
     "execution_count": 9,
     "metadata": {},
     "output_type": "execute_result"
    },
    {
     "data": {
      "image/png": "[encoded data removed]",
      "text/plain": [
       "<Figure size 1080x720 with 1 Axes>"
      ]
     },
     "metadata": {
      "needs_background": "light"
     },
     "output_type": "display_data"
    }
   ],
   "source": [
    "fig, ax = plt.subplots(figsize=(15, 10))\n",
    "\n",
    "sns.distplot(df['avg_wait_period'], kde=False, ax=ax, bins=100)\n",
    "ax.set_xlabel('Average wait_period per admission (hours)', fontweight='bold', fontsize=15)\n",
    "ax.set_ylabel('Number of hospital admissions', fontweight='bold', fontsize=15)\n",
    "ax.set_title('Histogram of average wait_period Vs number of hospital admissions', fontweight='bold', fontsize=15)\n",
    "ax.set_xlim(0, 600)\n",
    "\n",
    "ax.text(300, 3000, 'Total number of hospital admissions = 10,610', fontweight='bold', fontsize=15, ha='center', va='bottom')"
   ]
  },
  {
   "cell_type": "code",
   "execution_count": 10,
   "metadata": {
    "ExecuteTime": {
     "end_time": "2019-04-17T21:57:39.961976Z",
     "start_time": "2019-04-17T21:57:39.886611Z"
    }
   },
   "outputs": [
    {
     "data": {
      "text/html": [
       "<div>\n",
       "<style scoped>\n",
       "    .dataframe tbody tr th:only-of-type {\n",
       "        vertical-align: middle;\n",
       "    }\n",
       "\n",
       "    .dataframe tbody tr th {\n",
       "        vertical-align: top;\n",
       "    }\n",
       "\n",
       "    .dataframe thead th {\n",
       "        text-align: right;\n",
       "    }\n",
       "</style>\n",
       "<table border=\"1\" class=\"dataframe\">\n",
       "  <thead>\n",
       "    <tr style=\"text-align: right;\">\n",
       "      <th></th>\n",
       "      <th>n_adms</th>\n",
       "      <th>count</th>\n",
       "    </tr>\n",
       "  </thead>\n",
       "  <tbody>\n",
       "    <tr>\n",
       "      <th>0</th>\n",
       "      <td>1</td>\n",
       "      <td>9209</td>\n",
       "    </tr>\n",
       "    <tr>\n",
       "      <th>1</th>\n",
       "      <td>2</td>\n",
       "      <td>571</td>\n",
       "    </tr>\n",
       "    <tr>\n",
       "      <th>2</th>\n",
       "      <td>3</td>\n",
       "      <td>67</td>\n",
       "    </tr>\n",
       "    <tr>\n",
       "      <th>3</th>\n",
       "      <td>4</td>\n",
       "      <td>12</td>\n",
       "    </tr>\n",
       "    <tr>\n",
       "      <th>4</th>\n",
       "      <td>5</td>\n",
       "      <td>2</td>\n",
       "    </tr>\n",
       "  </tbody>\n",
       "</table>\n",
       "</div>"
      ],
      "text/plain": [
       "   n_adms  count\n",
       "0       1   9209\n",
       "1       2    571\n",
       "2       3     67\n",
       "3       4     12\n",
       "4       5      2"
      ]
     },
     "execution_count": 10,
     "metadata": {},
     "output_type": "execute_result"
    }
   ],
   "source": [
    "query = \"\"\"\n",
    "with test as (select subject_id, count(distinct hadm_id) as n_adms from data group by subject_id order by subject_id) select n_adms, count(*) from test group by n_adms order by n_adms;\n",
    "\"\"\"\n",
    "df = pd.read_sql_query(query, con)\n",
    "df.head()"
   ]
  },
  {
   "cell_type": "code",
   "execution_count": 11,
   "metadata": {
    "ExecuteTime": {
     "end_time": "2019-04-17T21:57:40.183867Z",
     "start_time": "2019-04-17T21:57:39.963930Z"
    }
   },
   "outputs": [
    {
     "data": {
      "image/png": "[encoded data removed]",
      "text/plain": [
       "<Figure size 1080x720 with 1 Axes>"
      ]
     },
     "metadata": {
      "needs_background": "light"
     },
     "output_type": "display_data"
    }
   ],
   "source": [
    "fig, ax = plt.subplots(figsize=(15, 10))\n",
    "\n",
    "sns.barplot(x='n_adms', y='count', data=df, ax=ax)\n",
    "ax.set_xlabel(\"Count of number of admissions\", fontweight='bold', fontsize=15)\n",
    "ax.set_ylabel('Number of admissions', fontweight='bold', fontsize=15)\n",
    "ax.set_title('Distribution of count of number of admissions', fontweight='bold', fontsize=15)\n",
    "for index, row in df.iterrows():\n",
    "    ax.text(index, row['count'], str(row['count']), color='black', ha='center', va='bottom', fontweight='bold', fontsize=12)"
   ]
  },
  {
   "cell_type": "code",
   "execution_count": 12,
   "metadata": {
    "ExecuteTime": {
     "end_time": "2019-04-17T21:57:40.394781Z",
     "start_time": "2019-04-17T21:57:40.185687Z"
    }
   },
   "outputs": [
    {
     "data": {
      "image/png": "[encoded data removed]",
      "text/plain": [
       "<Figure size 1080x720 with 1 Axes>"
      ]
     },
     "metadata": {
      "needs_background": "light"
     },
     "output_type": "display_data"
    }
   ],
   "source": [
    "fig, ax = plt.subplots(figsize=(15, 10))\n",
    "\n",
    "sns.barplot(x='n_adms', y='count', data=df, ax=ax)\n",
    "ax.set_xlabel(\"Count of number of admissions\", fontweight='bold', fontsize=15)\n",
    "ax.set_ylabel('Number of admissions', fontweight='bold', fontsize=15)\n",
    "ax.set_title('Distribution of count of number of admissions', fontweight='bold', fontsize=15)\n",
    "for index, row in df.iterrows():\n",
    "    ax.text(index, row['count'], str(row['count']), color='black', ha='center', va='bottom', fontweight='bold', fontsize=12)"
   ]
  },
  {
   "cell_type": "code",
   "execution_count": 13,
   "metadata": {
    "ExecuteTime": {
     "end_time": "2019-04-17T21:57:40.795413Z",
     "start_time": "2019-04-17T21:57:40.396294Z"
    }
   },
   "outputs": [
    {
     "data": {
      "text/html": [
       "<div>\n",
       "<style scoped>\n",
       "    .dataframe tbody tr th:only-of-type {\n",
       "        vertical-align: middle;\n",
       "    }\n",
       "\n",
       "    .dataframe tbody tr th {\n",
       "        vertical-align: top;\n",
       "    }\n",
       "\n",
       "    .dataframe thead th {\n",
       "        text-align: right;\n",
       "    }\n",
       "</style>\n",
       "<table border=\"1\" class=\"dataframe\">\n",
       "  <thead>\n",
       "    <tr style=\"text-align: right;\">\n",
       "      <th></th>\n",
       "      <th>note_length</th>\n",
       "    </tr>\n",
       "  </thead>\n",
       "  <tbody>\n",
       "    <tr>\n",
       "      <th>0</th>\n",
       "      <td>1623</td>\n",
       "    </tr>\n",
       "    <tr>\n",
       "      <th>1</th>\n",
       "      <td>1327</td>\n",
       "    </tr>\n",
       "    <tr>\n",
       "      <th>2</th>\n",
       "      <td>1611</td>\n",
       "    </tr>\n",
       "    <tr>\n",
       "      <th>3</th>\n",
       "      <td>1095</td>\n",
       "    </tr>\n",
       "    <tr>\n",
       "      <th>4</th>\n",
       "      <td>846</td>\n",
       "    </tr>\n",
       "  </tbody>\n",
       "</table>\n",
       "</div>"
      ],
      "text/plain": [
       "   note_length\n",
       "0         1623\n",
       "1         1327\n",
       "2         1611\n",
       "3         1095\n",
       "4          846"
      ]
     },
     "execution_count": 13,
     "metadata": {},
     "output_type": "execute_result"
    }
   ],
   "source": [
    "query = \"\"\"\n",
    "select length(text) as note_length from data;\n",
    "\"\"\"\n",
    "df = pd.read_sql_query(query, con)\n",
    "df.head()"
   ]
  },
  {
   "cell_type": "code",
   "execution_count": 14,
   "metadata": {
    "ExecuteTime": {
     "end_time": "2019-04-17T21:57:40.815267Z",
     "start_time": "2019-04-17T21:57:40.797204Z"
    }
   },
   "outputs": [
    {
     "data": {
      "text/plain": [
       "(57, 1837.7011127865474, 20155)"
      ]
     },
     "execution_count": 14,
     "metadata": {},
     "output_type": "execute_result"
    }
   ],
   "source": [
    "df['note_length'].min(), df['note_length'].mean(), df['note_length'].max()"
   ]
  },
  {
   "cell_type": "code",
   "execution_count": 15,
   "metadata": {
    "ExecuteTime": {
     "end_time": "2019-04-17T21:57:41.221098Z",
     "start_time": "2019-04-17T21:57:40.817308Z"
    }
   },
   "outputs": [
    {
     "data": {
      "text/plain": [
       "Text(5000, 8000, 'Total number of notes = 52391\\nmin = 57, average = 1837.70, max = 20155')"
      ]
     },
     "execution_count": 15,
     "metadata": {},
     "output_type": "execute_result"
    },
    {
     "data": {
      "image/png": "[encoded data removed]",
      "text/plain": [
       "<Figure size 1080x720 with 1 Axes>"
      ]
     },
     "metadata": {
      "needs_background": "light"
     },
     "output_type": "display_data"
    }
   ],
   "source": [
    "fig, ax = plt.subplots(figsize=(15, 10))\n",
    "\n",
    "sns.distplot(df['note_length'], kde=False, ax=ax, bins=100)\n",
    "ax.set_xlabel('Length of notes', fontweight='bold', fontsize=15)\n",
    "ax.set_ylabel('Number of notes', fontweight='bold', fontsize=15)\n",
    "ax.set_title('Distribution of note length', fontweight='bold', fontsize=15)\n",
    "ax.set_xlim(0, 10000)\n",
    "\n",
    "ax.text(5000, 8000, f\"Total number of notes = {len(df)}\\nmin = {df['note_length'].min()}, average = {df['note_length'].mean():0.2f}, max = {df['note_length'].max()}\", fontweight='bold', fontsize=15, ha='center', va='bottom')"
   ]
  },
  {
   "cell_type": "code",
   "execution_count": 16,
   "metadata": {
    "ExecuteTime": {
     "end_time": "2019-04-17T21:57:41.239168Z",
     "start_time": "2019-04-17T21:57:41.222799Z"
    }
   },
   "outputs": [],
   "source": [
    "con.close()"
   ]
  }
 ],
 "metadata": {
  "kernelspec": {
   "display_name": "Python 3",
   "language": "python",
   "name": "python3"
  },
  "language_info": {
   "codemirror_mode": {
    "name": "ipython",
    "version": 3
   },
   "file_extension": ".py",
   "mimetype": "text/x-python",
   "name": "python",
   "nbconvert_exporter": "python",
   "pygments_lexer": "ipython3",
   "version": "3.7.3"
  },
  "toc": {
   "base_numbering": 1,
   "nav_menu": {},
   "number_sections": true,
   "sideBar": true,
   "skip_h1_title": false,
   "title_cell": "Table of Contents",
   "title_sidebar": "Contents",
   "toc_cell": false,
   "toc_position": {},
   "toc_section_display": true,
   "toc_window_display": false
  }
 },
 "nbformat": 4,
 "nbformat_minor": 2
}
