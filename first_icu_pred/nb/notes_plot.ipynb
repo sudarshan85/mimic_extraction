{
 "cells": [
  {
   "cell_type": "code",
   "execution_count": 1,
   "metadata": {
    "ExecuteTime": {
     "end_time": "2019-06-23T16:52:32.863015Z",
     "start_time": "2019-06-23T16:52:32.852424Z"
    }
   },
   "outputs": [],
   "source": [
    "%load_ext autoreload\n",
    "%autoreload 2"
   ]
  },
  {
   "cell_type": "code",
   "execution_count": 2,
   "metadata": {
    "ExecuteTime": {
     "end_time": "2019-06-23T16:52:33.404317Z",
     "start_time": "2019-06-23T16:52:32.864536Z"
    }
   },
   "outputs": [],
   "source": [
    "import psycopg2\n",
    "import pandas as pd\n",
    "import numpy as np\n",
    "import seaborn as sns\n",
    "import matplotlib.pyplot as plt\n",
    "import PIL\n",
    "%matplotlib inline\n",
    "\n",
    "sns.set(style = 'darkgrid')"
   ]
  },
  {
   "cell_type": "code",
   "execution_count": 3,
   "metadata": {
    "ExecuteTime": {
     "end_time": "2019-06-23T16:52:33.422168Z",
     "start_time": "2019-06-23T16:52:33.406195Z"
    }
   },
   "outputs": [],
   "source": [
    "con = psycopg2.connect(dbname='mimic', user='sudarshan', host='/var/run/postgresql')"
   ]
  },
  {
   "cell_type": "code",
   "execution_count": 4,
   "metadata": {
    "ExecuteTime": {
     "end_time": "2019-06-23T16:52:40.784162Z",
     "start_time": "2019-06-23T16:52:33.424223Z"
    }
   },
   "outputs": [],
   "source": [
    "df = pd.read_sql_query(\"select icu_los from co;\", con)"
   ]
  },
  {
   "cell_type": "code",
   "execution_count": 6,
   "metadata": {},
   "outputs": [
    {
     "data": {
      "text/plain": [
       "Text(20.0, 24853.920000000002, 'Min: 0.0001, Avg:  5.80, Max: 173.0725')"
      ]
     },
     "execution_count": 6,
     "metadata": {},
     "output_type": "execute_result"
    },
    {
     "data": {
      "image/png": "[encoded data removed]",
      "text/plain": [
       "<Figure size 1080x720 with 1 Axes>"
      ]
     },
     "metadata": {
      "needs_background": "light"
     },
     "output_type": "display_data"
    }
   ],
   "source": [
    "fig, ax = plt.subplots(figsize=(15, 10))\n",
    "\n",
    "sns.distplot(df, kde=False, ax=ax, bins=80)\n",
    "ax.set_xlabel('ICU LOS (days)', fontweight='bold', fontsize=15)\n",
    "ax.set_ylabel('Number of notes', fontweight='bold', fontsize=15)\n",
    "ax.set_xlim(0, 40)\n",
    "ax.text(ax.get_xlim()[1]*0.50, ax.get_ylim()[1]*0.80, f\"Min: {df['icu_los'].min()}, Avg: {df['icu_los'].mean(): 0.2f}, Max: {df['icu_los'].max()}\", fontweight='bold', fontsize=15, ha='center', va='bottom')"
   ]
  },
  {
   "cell_type": "code",
   "execution_count": null,
   "metadata": {
    "ExecuteTime": {
     "end_time": "2019-06-23T16:52:40.784162Z",
     "start_time": "2019-06-23T16:52:33.424223Z"
    }
   },
   "outputs": [],
   "source": [
    "df = pd.read_sql_query(\"select count(distinct text) as n_notes, count(distinct hadm_id) as n_adms from co where length(text) between 100 and 8500;\", con)\n",
    "n_notes, n_adms = df['n_notes'][0], df['n_adms'][0]"
   ]
  },
  {
   "cell_type": "code",
   "execution_count": null,
   "metadata": {
    "ExecuteTime": {
     "end_time": "2019-06-23T16:52:40.808907Z",
     "start_time": "2019-06-23T16:52:40.786427Z"
    }
   },
   "outputs": [],
   "source": [
    "def plot_intervals(df, cat, ax):    \n",
    "    sns.barplot(x='days', y='n_notes', data=df, ax=ax)\n",
    "    ax.set_xticklabels(ax.get_xticklabels(),rotation=45, ha='right', fontweight='bold', fontsize=12)\n",
    "    ax.set_xlabel(\"days\")\n",
    "    ax.set_ylabel('Number of notes', fontweight='bold', fontsize=15)\n",
    "    ax.set_title(f\"Note Category: {cat}\\nTotal number of notes: {df['n_notes'].sum()}\", fontweight='bold', fontsize=15)                \n",
    "\n",
    "    for index, (_, row) in enumerate(df.iterrows()):\n",
    "        ax.text(index, row['n_notes'], str(row['n_notes']), color='black', ha='center', va='bottom', fontweight='bold', fontsize=12)\n",
    "    return ax"
   ]
  },
  {
   "cell_type": "code",
   "execution_count": null,
   "metadata": {
    "ExecuteTime": {
     "end_time": "2019-06-23T16:52:46.492639Z",
     "start_time": "2019-06-23T16:52:40.810559Z"
    }
   },
   "outputs": [],
   "source": [
    "query = \"\"\"\n",
    "select category, chartinterval, count(distinct text) as n_notes from co where length(text) between 100 and 8500 group by category, chartinterval order by category, chartinterval;\n",
    "\"\"\"\n",
    "df = pd.read_sql_query(query, con)\n",
    "\n",
    "intervals = ['-1 ≤ t ≤ 0']\n",
    "intervals += [f'-{i+1} ≤ t ≤ -{i}' for i in range(1, 15)]\n",
    "intervals.append('t ≤ -15')\n",
    "\n",
    "df['days'] = df['chartinterval'].apply(lambda x: intervals[x])\n",
    "df.drop(['chartinterval'], inplace=True, axis=1)\n",
    "df['log_notes'] = np.log(df['n_notes'])\n",
    "df.head()"
   ]
  },
  {
   "cell_type": "code",
   "execution_count": null,
   "metadata": {
    "ExecuteTime": {
     "end_time": "2019-06-23T16:52:46.510071Z",
     "start_time": "2019-06-23T16:52:46.494423Z"
    }
   },
   "outputs": [],
   "source": [
    "print(df['category'].nunique())\n",
    "sorted(df['category'].unique())"
   ]
  },
  {
   "cell_type": "code",
   "execution_count": null,
   "metadata": {
    "ExecuteTime": {
     "end_time": "2019-06-23T16:52:48.054652Z",
     "start_time": "2019-06-23T16:52:46.511908Z"
    }
   },
   "outputs": [],
   "source": [
    "fig, ax = plt.subplots(2, 2, figsize=(20, 15))\n",
    "plot_intervals(df.loc[df['category'] == 'Case Management ', ['n_notes', 'days', 'log_notes']], 'Case Management', ax[0][0])\n",
    "plot_intervals(df.loc[df['category'] == 'Consult', ['n_notes', 'days', 'log_notes']], 'Consult', ax[0][1])\n",
    "plot_intervals(df.loc[df['category'] == 'General', ['n_notes', 'days', 'log_notes']], 'General', ax[1][0])\n",
    "plot_intervals(df.loc[df['category'] == 'Nursing', ['n_notes', 'days', 'log_notes']], 'Nursing', ax[1][1])\n",
    "plt.subplots_adjust(hspace = 0.4)\n",
    "\n",
    "fig.savefig('cats_1.tif', dpi=300)\n",
    "fig.savefig('cats_1.eps', dpi=300)"
   ]
  },
  {
   "cell_type": "code",
   "execution_count": null,
   "metadata": {
    "ExecuteTime": {
     "end_time": "2019-06-23T16:52:49.653039Z",
     "start_time": "2019-06-23T16:52:48.056452Z"
    },
    "scrolled": false
   },
   "outputs": [],
   "source": [
    "fig, ax = plt.subplots(2, 2, figsize=(20, 15))\n",
    "plot_intervals(df.loc[df['category'] == 'Nursing/other', ['n_notes', 'days', 'log_notes']], 'Nursing/other', ax[0][0])\n",
    "plot_intervals(df.loc[df['category'] == 'Nutrition', ['n_notes', 'days', 'log_notes']], 'Nutrition', ax[0][1])\n",
    "plot_intervals(df.loc[df['category'] == 'Pharmacy', ['n_notes', 'days', 'log_notes']], 'Pharmacy', ax[1][0])\n",
    "plot_intervals(df.loc[df['category'] == 'Physician ', ['n_notes', 'days', 'log_notes']], 'Physician', ax[1][1])\n",
    "plt.subplots_adjust(hspace = 0.4)\n",
    "\n",
    "fig.savefig('cats_2.tif', dpi=300)\n",
    "fig.savefig('cats_2.eps', dpi=300)"
   ]
  },
  {
   "cell_type": "code",
   "execution_count": null,
   "metadata": {
    "ExecuteTime": {
     "end_time": "2019-06-23T16:52:51.347498Z",
     "start_time": "2019-06-23T16:52:49.654838Z"
    },
    "scrolled": false
   },
   "outputs": [],
   "source": [
    "fig, ax = plt.subplots(2, 2, figsize=(20, 15))\n",
    "plot_intervals(df.loc[df['category'] == 'Radiology', ['n_notes', 'days', 'log_notes']], 'Radiology', ax[0][0])\n",
    "plot_intervals(df.loc[df['category'] == 'Rehab Services', ['n_notes', 'days', 'log_notes']], 'Rehab Services', ax[0][1])\n",
    "plot_intervals(df.loc[df['category'] == 'Respiratory ', ['n_notes', 'days', 'log_notes']], 'Respiratory', ax[1][0])\n",
    "plot_intervals(df.loc[df['category'] == 'Social Work', ['n_notes', 'days', 'log_notes']], 'Social Work', ax[1][1])\n",
    "plt.subplots_adjust(hspace = 0.4)\n",
    "\n",
    "fig.savefig('cats_3.tif', dpi=300)\n",
    "fig.savefig('cats_3.eps', dpi=300)"
   ]
  },
  {
   "cell_type": "code",
   "execution_count": null,
   "metadata": {
    "ExecuteTime": {
     "end_time": "2019-06-23T16:58:07.279436Z",
     "start_time": "2019-06-23T16:58:07.263531Z"
    }
   },
   "outputs": [],
   "source": [
    "def plot_wait_time(df, cat, ax):\n",
    "    sns.distplot(df, kde=False, ax=ax, bins=10)\n",
    "    ax.set_xlabel('Time between note charttime and ICU intime (days)', fontweight='bold', fontsize=15)\n",
    "    ax.set_ylabel('Number of notes', fontweight='bold', fontsize=15)\n",
    "#     ax.set_title(f\"Histogram of Chart Interval for cateogry {cat}\\nMin: {df['chart_icu_period'].min()}, Avg: {df['note_wait_time'].mean():0.2f}, Max:{df['note_wait_time'].max()}\", fontweight='bold', fontsize=15)"
   ]
  },
  {
   "cell_type": "code",
   "execution_count": null,
   "metadata": {
    "ExecuteTime": {
     "end_time": "2019-06-23T16:55:18.475408Z",
     "start_time": "2019-06-23T16:55:17.225793Z"
    }
   },
   "outputs": [],
   "source": [
    "query = \"\"\"\n",
    "select category, chart_icu_period from co where length(text) between 100 and 8500;\n",
    "\"\"\"\n",
    "df = pd.read_sql_query(query, con)\n",
    "df.head()"
   ]
  },
  {
   "cell_type": "code",
   "execution_count": null,
   "metadata": {
    "ExecuteTime": {
     "end_time": "2019-06-23T16:57:03.346180Z",
     "start_time": "2019-06-23T16:57:02.781034Z"
    },
    "scrolled": false
   },
   "outputs": [],
   "source": [
    "fig, ax = plt.subplots(figsize=(15, 10))\n",
    "mdf = df[['chart_icu_period']]\n",
    "# mdf = np.log1p(df[['note_wait_time']])\n",
    "\n",
    "sns.distplot(mdf, kde=False, ax=ax, bins=80)\n",
    "ax.set_xlabel('Time between Note Chart Time and ICU Admit Time (days)', fontweight='bold', fontsize=15)\n",
    "ax.set_ylabel('Number of notes', fontweight='bold', fontsize=15)\n",
    "# ax.set_title('Histogram of Chart Interval', fontweight='bold', fontsize=15)\n",
    "# ax.set_xscale('log')\n",
    "ax.set_xlim(0, 60)\n",
    "\n",
    "ax.text(ax.get_xlim()[1]*0.50, ax.get_ylim()[1]*0.80, f\"Min: {mdf['chart_icu_period'].min()}, Avg: {mdf['chart_icu_period'].mean(): 0.2f}, Max: {mdf['chart_icu_period'].max()}\", fontweight='bold', fontsize=15, ha='center', va='bottom')\n",
    "\n",
    "fig.savefig('chart_icu_period.tif', dpi=300)\n",
    "fig.savefig('chart_icu_period.eps', dpi=300)"
   ]
  },
  {
   "cell_type": "code",
   "execution_count": null,
   "metadata": {
    "ExecuteTime": {
     "end_time": "2019-06-23T16:59:33.540515Z",
     "start_time": "2019-06-23T16:59:32.413345Z"
    },
    "scrolled": false
   },
   "outputs": [],
   "source": [
    "fig, ax = plt.subplots(2, 2, figsize=(20, 15))\n",
    "plot_wait_time(df.loc[df['category'] == 'Case Management ', ['chart_icu_period']], 'Case Management', ax[0][0])\n",
    "plot_wait_time(df.loc[df['category'] == 'Consult', ['chart_icu_period']], 'Consult', ax[0][1])\n",
    "plot_wait_time(df.loc[df['category'] == 'General', ['chart_icu_period']], 'General', ax[1][0])\n",
    "plot_wait_time(df.loc[df['category'] == 'Nursing', ['chart_icu_period']], 'Nursing', ax[1][1])\n",
    "plt.subplots_adjust(hspace = 0.3)\n",
    "\n",
    "fig.savefig('cats_period_1.tif', dpi=300)\n",
    "fig.savefig('cats_period_1.eps', dpi=300)"
   ]
  },
  {
   "cell_type": "code",
   "execution_count": null,
   "metadata": {
    "ExecuteTime": {
     "end_time": "2019-06-23T16:59:40.391643Z",
     "start_time": "2019-06-23T16:59:39.307610Z"
    },
    "scrolled": false
   },
   "outputs": [],
   "source": [
    "fig, ax = plt.subplots(2, 2, figsize=(20, 15))\n",
    "plot_wait_time(df.loc[df['category'] == 'Nursing/other', ['chart_icu_period']], 'Nursing/other', ax[0][0])\n",
    "plot_wait_time(df.loc[df['category'] == 'Nutrition', ['chart_icu_period']], 'Nutrition', ax[0][1])\n",
    "plot_wait_time(df.loc[df['category'] == 'Pharmacy', ['chart_icu_period']], 'Pharmacy', ax[1][0])\n",
    "plot_wait_time(df.loc[df['category'] == 'Physician ', ['chart_icu_period']], 'Physician', ax[1][1])\n",
    "plt.subplots_adjust(hspace = 0.3)\n",
    "\n",
    "fig.savefig('cats_period_2.tif', dpi=300)\n",
    "fig.savefig('cats_period_2.eps', dpi=300)"
   ]
  },
  {
   "cell_type": "code",
   "execution_count": null,
   "metadata": {
    "ExecuteTime": {
     "end_time": "2019-06-23T17:00:18.031020Z",
     "start_time": "2019-06-23T17:00:16.899651Z"
    },
    "scrolled": false
   },
   "outputs": [],
   "source": [
    "fig, ax = plt.subplots(2, 2, figsize=(20, 15))\n",
    "plot_wait_time(df.loc[df['category'] == 'Radiology', ['chart_icu_period']], 'Radiology', ax[0][0])\n",
    "plot_wait_time(df.loc[df['category'] == 'Rehab Services', ['chart_icu_period']], 'Rehab Services', ax[0][1])\n",
    "plot_wait_time(df.loc[df['category'] == 'Respiratory ', ['chart_icu_period']], 'Respiratory', ax[1][0])\n",
    "plot_wait_time(df.loc[df['category'] == 'Social Work', ['chart_icu_period']], 'Social Work', ax[1][1])\n",
    "plt.subplots_adjust(hspace = 0.3)\n",
    "\n",
    "fig.savefig('cats_period_3.tif', dpi=300)\n",
    "fig.savefig('cats_period_3.eps', dpi=300)"
   ]
  },
  {
   "cell_type": "code",
   "execution_count": null,
   "metadata": {
    "ExecuteTime": {
     "end_time": "2019-06-23T17:01:10.402488Z",
     "start_time": "2019-06-23T17:01:09.226871Z"
    }
   },
   "outputs": [],
   "source": [
    "query = \"\"\"\n",
    "select adm_icu_period from co where length(text) between 100 and 8500;\n",
    "\"\"\"\n",
    "df = pd.read_sql_query(query, con)\n",
    "df.head()"
   ]
  },
  {
   "cell_type": "code",
   "execution_count": null,
   "metadata": {
    "ExecuteTime": {
     "end_time": "2019-06-23T17:02:25.551446Z",
     "start_time": "2019-06-23T17:02:24.975789Z"
    },
    "scrolled": false
   },
   "outputs": [],
   "source": [
    "fig, ax = plt.subplots(figsize=(15, 10))\n",
    "mdf = df[['adm_icu_period']]\n",
    "# mdf = np.log1p(df[['note_wait_time']])\n",
    "\n",
    "sns.distplot(mdf, kde=False, ax=ax, bins=80)\n",
    "ax.set_xlabel('Time between hospital admission and ICU admission (days)', fontweight='bold', fontsize=15)\n",
    "ax.set_ylabel('Number of notes', fontweight='bold', fontsize=15)\n",
    "# ax.set_title('Histogram of Wait Period', fontweight='bold', fontsize=15)\n",
    "# ax.set_xscale('log')\n",
    "ax.set_xlim(0, 70)\n",
    "\n",
    "ax.text(ax.get_xlim()[1]*0.50, ax.get_ylim()[1]*0.80, f\"Min: {mdf['adm_icu_period'].min()}, Avg: {mdf['adm_icu_period'].mean(): 0.2f}, Max: {mdf['adm_icu_period'].max()}\", fontweight='bold', fontsize=15, ha='center', va='bottom')\n",
    "        \n",
    "fig.savefig('adm_icu_period.tif', dpi=300)\n",
    "fig.savefig('adm_icu_period.eps', dpi=300)"
   ]
  },
  {
   "cell_type": "code",
   "execution_count": null,
   "metadata": {
    "ExecuteTime": {
     "end_time": "2019-06-23T17:02:30.200889Z",
     "start_time": "2019-06-23T17:02:28.664894Z"
    }
   },
   "outputs": [],
   "source": [
    "query = \"\"\"\n",
    "select length(text) as note_length from co where length(text) between 100 and 8500;\n",
    "\"\"\"\n",
    "df = pd.read_sql_query(query, con)\n",
    "df.head()"
   ]
  },
  {
   "cell_type": "code",
   "execution_count": null,
   "metadata": {
    "ExecuteTime": {
     "end_time": "2019-06-23T17:03:05.621875Z",
     "start_time": "2019-06-23T17:03:05.031190Z"
    }
   },
   "outputs": [],
   "source": [
    "fig, ax = plt.subplots(figsize=(15, 10))\n",
    "\n",
    "sns.distplot(df['note_length'], kde=False, ax=ax, bins=100)\n",
    "ax.set_xlabel('Note length', fontweight='bold', fontsize=15)\n",
    "ax.set_ylabel('Number of notes', fontweight='bold', fontsize=15)\n",
    "# ax.set_title('Histogram of note length', fontweight='bold', fontsize=15)\n",
    "# ax.set_xlim(0, 11000)\n",
    "\n",
    "ax.text(5000, ax.get_ylim()[1]*0.80, f\"Min: {df['note_length'].min()}, Avg: {df['note_length'].mean(): 0.2f}, Max: {df['note_length'].max()}\", fontweight='bold', fontsize=15, ha='center', va='bottom')\n",
    "        \n",
    "fig.savefig('note_len_hist.tif', dpi=300)\n",
    "fig.savefig('note_len_hist.eps', dpi=300)"
   ]
  },
  {
   "cell_type": "code",
   "execution_count": null,
   "metadata": {
    "ExecuteTime": {
     "end_time": "2019-06-23T17:03:15.395945Z",
     "start_time": "2019-06-23T17:03:08.351772Z"
    }
   },
   "outputs": [],
   "source": [
    "query = \"\"\"\n",
    "select count(distinct text) as n_notes, count(distinct hadm_id) as n_adms, class_label from co where length(text) between 100 and 8500 group by class_label order by class_label\n",
    "\"\"\"\n",
    "df = pd.read_sql_query(query, con)"
   ]
  },
  {
   "cell_type": "code",
   "execution_count": null,
   "metadata": {
    "ExecuteTime": {
     "end_time": "2019-06-23T17:03:16.357606Z",
     "start_time": "2019-06-23T17:03:16.335972Z"
    }
   },
   "outputs": [],
   "source": [
    "desc = ['not used', 'negative class', 'positive class']\n",
    "df['class_label'] = desc\n",
    "df = df.reindex([2,1,0])\n",
    "df.reset_index(inplace=True, drop=True)\n",
    "df"
   ]
  },
  {
   "cell_type": "code",
   "execution_count": null,
   "metadata": {
    "ExecuteTime": {
     "end_time": "2019-06-23T17:03:18.139994Z",
     "start_time": "2019-06-23T17:03:18.120398Z"
    }
   },
   "outputs": [],
   "source": [
    "mdf = df.copy()\n",
    "mdf.rename(columns={'adms':'Number of Admissions', 'n_notes':'Number of Notes'}, inplace=True)\n",
    "mdf = pd.melt(mdf, id_vars='class_label', var_name='Legend', value_name='counts')"
   ]
  },
  {
   "cell_type": "code",
   "execution_count": null,
   "metadata": {
    "ExecuteTime": {
     "end_time": "2019-06-23T17:03:53.974071Z",
     "start_time": "2019-06-23T17:03:53.649336Z"
    }
   },
   "outputs": [],
   "source": [
    "fig, ax = plt.subplots(figsize=(11, 8))\n",
    "\n",
    "sns.barplot(x='class_label', y='counts', hue='Legend', data=mdf, ax=ax)\n",
    "ax.set_xticklabels(ax.get_xticklabels(), ha='right', fontweight='bold', fontsize=12)\n",
    "ax.set_xlabel(\"\")\n",
    "ax.set_ylabel('counts', fontweight='bold', fontsize=15)\n",
    "# ax.set_title('Distribution of notes and admissions w.r.t class labels', fontweight='bold', fontsize=15)\n",
    "\n",
    "for index, row in mdf.iterrows():\n",
    "    if index < len(mdf)//2:\n",
    "        ax.text(index-0.13, row['counts']+50, str(row['counts']), color='black', ha='right', va='bottom', fontweight='bold', fontsize=15)\n",
    "    else:\n",
    "        ax.text(index % (len(mdf)//2)+0.25, row['counts']+50, str(row['counts']), color='black', ha='right', va='bottom', fontweight='bold', fontsize=15)\n",
    "        \n",
    "fig.savefig('note_class_dist.tif', dpi=300)\n",
    "fig.savefig('note_class_dist.eps', dpi=300)        "
   ]
  },
  {
   "cell_type": "code",
   "execution_count": null,
   "metadata": {
    "ExecuteTime": {
     "end_time": "2019-06-23T17:06:05.909924Z",
     "start_time": "2019-06-23T17:06:05.885007Z"
    }
   },
   "outputs": [],
   "source": [
    "def plot_intervals_all(df, mdf):    \n",
    "    fig, ax = plt.subplots(2, 1, figsize=(20, 20))\n",
    "\n",
    "    sns.barplot(x='days', y='n_notes', data=df, ax=ax[0])\n",
    "    ax[0].set_xticklabels(ax[0].get_xticklabels(),rotation=45, ha='right', fontweight='bold', fontsize=12)\n",
    "    ax[0].set_xlabel(\"\")\n",
    "    ax[0].set_ylabel('Number of notes', fontweight='bold', fontsize=15)\n",
    "#     ax[0].set_title('Distribution of notes and admissions w.r.t chart time and ICU admit time (in days)', fontweight='bold', fontsize=15)\n",
    "\n",
    "#     ax[0].text(len(df)/2, ax[0].get_ylim()[1]*0.80, f'Total number of notes = {n_notes}', fontweight='bold', fontsize=15, ha='center', va='bottom')\n",
    "\n",
    "    for index, row in df.iterrows():\n",
    "        ax[0].text(index, row['n_notes'], str(row['n_notes']), color='black', ha='center', va='bottom', fontweight='bold', fontsize=12)\n",
    "\n",
    "    sns.barplot(x='days', y='counts', hue='Legend', data=mdf, ax=ax[1])\n",
    "    ax[1].set_xticklabels(ax[1].get_xticklabels(),rotation=45, ha='right', fontweight='bold', fontsize=12)\n",
    "    ax[1].set_xlabel(\"Time between note chart time and ICU admit time (days)\\n 't' is the time-to-ICU admit time\", fontweight='bold', fontsize=15)\n",
    "    ax[1].set_ylabel('count', fontweight='bold', fontsize=15)\n",
    "\n",
    "#     ax[1].text(len(df)/2, ax[0].get_ylim()[1]*0.80, f'Total number of notes = {n_notes}\\nTotal number of hospital admissions = {n_adms}', fontweight='bold', fontsize=15, ha='center', va='bottom')\n",
    "\n",
    "    for index, row in mdf.iterrows():\n",
    "        if index < len(mdf)//2:\n",
    "            ax[1].text(index+0.04, row['counts'] + 100, str(row['counts']), color='black', ha='right', va='bottom', fontweight='bold', fontsize=12)\n",
    "        else:\n",
    "            ax[1].text(index % (len(mdf)//2) + 0.36, row['counts'] + 100, str(row['counts']), color='black', ha='right', va='bottom', fontweight='bold', fontsize=12)\n",
    "    fig.savefig('notes_adm_icu_period.tif', dpi=300)\n",
    "    fig.savefig('notes_adm_icu_period.eps', dpi=300)                 "
   ]
  },
  {
   "cell_type": "code",
   "execution_count": null,
   "metadata": {
    "ExecuteTime": {
     "end_time": "2019-06-23T17:04:15.944601Z",
     "start_time": "2019-06-23T17:04:08.743556Z"
    }
   },
   "outputs": [],
   "source": [
    "query = \"\"\"\n",
    "select count(distinct text) as n_notes, count(distinct hadm_id) as n_adms from co where length(text) between 100 and 8500 group by chartinterval order by chartinterval;\n",
    "\"\"\"\n",
    "df = pd.read_sql_query(query, con)\n",
    "df['days'] = intervals"
   ]
  },
  {
   "cell_type": "code",
   "execution_count": null,
   "metadata": {
    "ExecuteTime": {
     "end_time": "2019-06-23T17:04:16.444312Z",
     "start_time": "2019-06-23T17:04:16.424434Z"
    }
   },
   "outputs": [],
   "source": [
    "# df.drop(0, axis=0, inplace=True)\n",
    "# df.reset_index(inplace=True, drop=True)\n",
    "\n",
    "mdf = df.copy()\n",
    "mdf.rename(columns={'n_adms':'Number of Admissions', 'n_notes':'Number of Notes'}, inplace=True)\n",
    "mdf = pd.melt(mdf, id_vars='days', var_name='Legend', value_name='counts')"
   ]
  },
  {
   "cell_type": "code",
   "execution_count": null,
   "metadata": {
    "ExecuteTime": {
     "end_time": "2019-06-23T17:06:08.966129Z",
     "start_time": "2019-06-23T17:06:07.637748Z"
    }
   },
   "outputs": [],
   "source": [
    "plot_intervals_all(df, mdf)"
   ]
  },
  {
   "cell_type": "code",
   "execution_count": null,
   "metadata": {
    "ExecuteTime": {
     "end_time": "2019-06-23T17:06:09.822366Z",
     "start_time": "2019-06-23T17:06:09.805044Z"
    }
   },
   "outputs": [],
   "source": [
    "con.close()"
   ]
  }
 ],
 "metadata": {
  "kernelspec": {
   "display_name": "Python 3",
   "language": "python",
   "name": "python3"
  },
  "language_info": {
   "codemirror_mode": {
    "name": "ipython",
    "version": 3
   },
   "file_extension": ".py",
   "mimetype": "text/x-python",
   "name": "python",
   "nbconvert_exporter": "python",
   "pygments_lexer": "ipython3",
   "version": "3.7.1"
  },
  "toc": {
   "base_numbering": 1,
   "nav_menu": {},
   "number_sections": true,
   "sideBar": true,
   "skip_h1_title": false,
   "title_cell": "Table of Contents",
   "title_sidebar": "Contents",
   "toc_cell": false,
   "toc_position": {},
   "toc_section_display": true,
   "toc_window_display": false
  }
 },
 "nbformat": 4,
 "nbformat_minor": 2
}
