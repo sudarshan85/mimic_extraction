{
 "cells": [
  {
   "cell_type": "code",
   "execution_count": 1,
   "metadata": {
    "ExecuteTime": {
     "end_time": "2019-06-02T15:29:03.451462Z",
     "start_time": "2019-06-02T15:29:03.435954Z"
    }
   },
   "outputs": [],
   "source": [
    "%load_ext autoreload\n",
    "%autoreload 2"
   ]
  },
  {
   "cell_type": "code",
   "execution_count": 2,
   "metadata": {
    "ExecuteTime": {
     "end_time": "2019-06-02T15:29:04.025745Z",
     "start_time": "2019-06-02T15:29:03.453068Z"
    }
   },
   "outputs": [],
   "source": [
    "import pandas as pd\n",
    "import numpy as np\n",
    "import seaborn as sns\n",
    "import matplotlib.pyplot as plt\n",
    "%matplotlib inline\n",
    "\n",
    "sns.set(style = 'darkgrid')"
   ]
  },
  {
   "cell_type": "code",
   "execution_count": 86,
   "metadata": {
    "ExecuteTime": {
     "end_time": "2019-06-02T15:31:14.802290Z",
     "start_time": "2019-06-02T15:31:14.784615Z"
    }
   },
   "outputs": [],
   "source": [
    "e1 = -480\n",
    "s1 = -119\n",
    "e2 = -72\n",
    "s2 = -23\n",
    "step = 6"
   ]
  },
  {
   "cell_type": "code",
   "execution_count": 87,
   "metadata": {
    "ExecuteTime": {
     "end_time": "2019-06-02T15:31:14.820941Z",
     "start_time": "2019-06-02T15:31:14.803974Z"
    }
   },
   "outputs": [],
   "source": [
    "s = []\n",
    "intervals = list(range(e1, s1, step))\n",
    "for idx in range(len(intervals)-1):\n",
    "    s.append(f'{intervals[idx]} ≤ {intervals[idx+1]}')"
   ]
  },
  {
   "cell_type": "code",
   "execution_count": 88,
   "metadata": {
    "ExecuteTime": {
     "end_time": "2019-06-02T15:31:14.844350Z",
     "start_time": "2019-06-02T15:31:14.822990Z"
    }
   },
   "outputs": [],
   "source": [
    "intervals = list(range(e2, s2, step))\n",
    "for idx in range(len(intervals)-1):\n",
    "    s.append(f'{intervals[idx]} ≤ {intervals[idx+1]}')"
   ]
  },
  {
   "cell_type": "code",
   "execution_count": 89,
   "metadata": {
    "ExecuteTime": {
     "end_time": "2019-06-02T15:31:14.875087Z",
     "start_time": "2019-06-02T15:31:14.846225Z"
    }
   },
   "outputs": [
    {
     "name": "stdout",
     "output_type": "stream",
     "text": [
      "68\n",
      "['-480 ≤ -474', '-474 ≤ -468', '-468 ≤ -462', '-462 ≤ -456', '-456 ≤ -450']\n",
      "['-54 ≤ -48', '-48 ≤ -42', '-42 ≤ -36', '-36 ≤ -30', '-30 ≤ -24']\n"
     ]
    }
   ],
   "source": [
    "print(len(s))\n",
    "print(s[:5])\n",
    "print(s[-5:])"
   ]
  }
 ],
 "metadata": {
  "kernelspec": {
   "display_name": "Python 3",
   "language": "python",
   "name": "python3"
  },
  "language_info": {
   "codemirror_mode": {
    "name": "ipython",
    "version": 3
   },
   "file_extension": ".py",
   "mimetype": "text/x-python",
   "name": "python",
   "nbconvert_exporter": "python",
   "pygments_lexer": "ipython3",
   "version": "3.7.3"
  },
  "toc": {
   "base_numbering": 1,
   "nav_menu": {},
   "number_sections": true,
   "sideBar": true,
   "skip_h1_title": false,
   "title_cell": "Table of Contents",
   "title_sidebar": "Contents",
   "toc_cell": false,
   "toc_position": {},
   "toc_section_display": true,
   "toc_window_display": false
  }
 },
 "nbformat": 4,
 "nbformat_minor": 2
}
