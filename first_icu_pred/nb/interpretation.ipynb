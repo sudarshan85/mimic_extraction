{
 "cells": [
  {
   "cell_type": "code",
   "execution_count": null,
   "metadata": {
    "ExecuteTime": {
     "end_time": "2019-06-02T19:28:46.413884Z",
     "start_time": "2019-06-02T19:28:46.400019Z"
    }
   },
   "outputs": [],
   "source": [
    "%load_ext autoreload\n",
    "%autoreload 2"
   ]
  },
  {
   "cell_type": "code",
   "execution_count": null,
   "metadata": {
    "ExecuteTime": {
     "end_time": "2019-06-02T19:28:47.003718Z",
     "start_time": "2019-06-02T19:28:46.415748Z"
    }
   },
   "outputs": [],
   "source": [
    "import psycopg2\n",
    "import pandas as pd\n",
    "import numpy as np\n",
    "import seaborn as sns\n",
    "import matplotlib.pyplot as plt\n",
    "%matplotlib inline\n",
    "\n",
    "sns.set(style = 'darkgrid')"
   ]
  },
  {
   "cell_type": "code",
   "execution_count": null,
   "metadata": {
    "ExecuteTime": {
     "end_time": "2019-06-02T19:28:48.499972Z",
     "start_time": "2019-06-02T19:28:47.006245Z"
    }
   },
   "outputs": [],
   "source": [
    "con = psycopg2.connect(dbname='mimic', user='sudarshan', host='/var/run/postgresql')\n",
    "\n",
    "query = \"\"\"\n",
    "select hadm_id, subject_id, icustay_id, admission_age, wait_period, charttime, intime, category, description, text, class_label from timely_notes where class_label != -1 and length(text) between 100 and 8500;\n",
    "\"\"\"\n",
    "df = pd.read_sql_query(query, con)\n",
    "con.close()"
   ]
  },
  {
   "cell_type": "code",
   "execution_count": null,
   "metadata": {
    "ExecuteTime": {
     "end_time": "2019-06-02T19:28:52.810763Z",
     "start_time": "2019-06-02T19:28:52.774808Z"
    }
   },
   "outputs": [],
   "source": [
    "df['relative_charttime'] = (df['charttime'] - df['intime'])\n",
    "df.head()"
   ]
  },
  {
   "cell_type": "code",
   "execution_count": null,
   "metadata": {
    "ExecuteTime": {
     "end_time": "2019-06-02T19:33:13.277239Z",
     "start_time": "2019-06-02T19:33:13.258153Z"
    }
   },
   "outputs": [],
   "source": [
    "def get_hours(time_delta):\n",
    "    return int(time_delta.value/(1e9*60*60))"
   ]
  },
  {
   "cell_type": "code",
   "execution_count": null,
   "metadata": {
    "ExecuteTime": {
     "end_time": "2019-06-02T19:33:54.217685Z",
     "start_time": "2019-06-02T19:33:53.577716Z"
    }
   },
   "outputs": [],
   "source": [
    "df['relative_charttime'] = (df['charttime'] - df['intime']).apply(get_hours)"
   ]
  },
  {
   "cell_type": "code",
   "execution_count": null,
   "metadata": {
    "ExecuteTime": {
     "end_time": "2019-06-02T19:34:09.429681Z",
     "start_time": "2019-06-02T19:34:09.401209Z"
    }
   },
   "outputs": [],
   "source": [
    "df.head()"
   ]
  },
  {
   "cell_type": "code",
   "execution_count": null,
   "metadata": {
    "ExecuteTime": {
     "end_time": "2019-06-02T19:33:05.766325Z",
     "start_time": "2019-06-02T19:33:05.746350Z"
    }
   },
   "outputs": [],
   "source": [
    "int((x.value)/(1e9*60*60))"
   ]
  },
  {
   "cell_type": "code",
   "execution_count": null,
   "metadata": {
    "ExecuteTime": {
     "end_time": "2019-06-02T19:37:04.156644Z",
     "start_time": "2019-06-02T19:37:04.132663Z"
    }
   },
   "outputs": [],
   "source": [
    "inter = df.loc[((df['relative_charttime'] >= e1) & (df['relative_charttime'] <= s1)) | ((df['relative_charttime'] >= e2) & (df['relative_charttime'] <= -s2))]"
   ]
  },
  {
   "cell_type": "code",
   "execution_count": null,
   "metadata": {
    "ExecuteTime": {
     "end_time": "2019-06-02T19:36:47.713957Z",
     "start_time": "2019-06-02T19:36:47.694553Z"
    }
   },
   "outputs": [],
   "source": [
    "e1 = -480\n",
    "s1 = -120\n",
    "e2 = -72\n",
    "s2 = -24\n",
    "step = 6"
   ]
  },
  {
   "cell_type": "code",
   "execution_count": null,
   "metadata": {
    "ExecuteTime": {
     "end_time": "2019-06-02T15:31:14.820941Z",
     "start_time": "2019-06-02T15:31:14.803974Z"
    }
   },
   "outputs": [],
   "source": [
    "s = []\n",
    "intervals = list(range(e1, s1, step))\n",
    "for idx in range(len(intervals)-1):\n",
    "    s.append(f'{intervals[idx]} ≤ {intervals[idx+1]}')"
   ]
  },
  {
   "cell_type": "code",
   "execution_count": null,
   "metadata": {
    "ExecuteTime": {
     "end_time": "2019-06-02T15:31:14.844350Z",
     "start_time": "2019-06-02T15:31:14.822990Z"
    }
   },
   "outputs": [],
   "source": [
    "intervals = list(range(e2, s2, step))\n",
    "for idx in range(len(intervals)-1):\n",
    "    s.append(f'{intervals[idx]} ≤ {intervals[idx+1]}')"
   ]
  },
  {
   "cell_type": "code",
   "execution_count": null,
   "metadata": {
    "ExecuteTime": {
     "end_time": "2019-06-02T15:31:14.875087Z",
     "start_time": "2019-06-02T15:31:14.846225Z"
    }
   },
   "outputs": [],
   "source": [
    "print(len(s))\n",
    "print(s[:5])\n",
    "print(s[-5:])"
   ]
  }
 ],
 "metadata": {
  "kernelspec": {
   "display_name": "Python 3",
   "language": "python",
   "name": "python3"
  },
  "language_info": {
   "codemirror_mode": {
    "name": "ipython",
    "version": 3
   },
   "file_extension": ".py",
   "mimetype": "text/x-python",
   "name": "python",
   "nbconvert_exporter": "python",
   "pygments_lexer": "ipython3",
   "version": "3.7.3"
  },
  "toc": {
   "base_numbering": 1,
   "nav_menu": {},
   "number_sections": true,
   "sideBar": true,
   "skip_h1_title": false,
   "title_cell": "Table of Contents",
   "title_sidebar": "Contents",
   "toc_cell": false,
   "toc_position": {},
   "toc_section_display": true,
   "toc_window_display": false
  }
 },
 "nbformat": 4,
 "nbformat_minor": 2
}
