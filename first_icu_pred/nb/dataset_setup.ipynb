{
 "cells": [
  {
   "cell_type": "markdown",
   "metadata": {},
   "source": [
    "# Dataset Setup for First ICU Prediction"
   ]
  },
  {
   "cell_type": "markdown",
   "metadata": {},
   "source": [
    "## Imports & Inits"
   ]
  },
  {
   "cell_type": "code",
   "execution_count": 1,
   "metadata": {
    "ExecuteTime": {
     "end_time": "2019-06-05T18:45:13.678224Z",
     "start_time": "2019-06-05T18:45:13.664492Z"
    }
   },
   "outputs": [],
   "source": [
    "%load_ext autoreload\n",
    "%autoreload 2"
   ]
  },
  {
   "cell_type": "code",
   "execution_count": 2,
   "metadata": {
    "ExecuteTime": {
     "end_time": "2019-06-05T18:45:14.324882Z",
     "start_time": "2019-06-05T18:45:13.679827Z"
    }
   },
   "outputs": [],
   "source": [
    "import psycopg2\n",
    "import math\n",
    "import spacy\n",
    "import numpy as np\n",
    "import pandas as pd\n",
    "from pathlib import Path\n",
    "\n",
    "from sklearn.model_selection import train_test_split"
   ]
  },
  {
   "cell_type": "code",
   "execution_count": 3,
   "metadata": {
    "ExecuteTime": {
     "end_time": "2019-06-05T18:45:14.344645Z",
     "start_time": "2019-06-05T18:45:14.327029Z"
    }
   },
   "outputs": [],
   "source": [
    "from remove_redacted import process_notes"
   ]
  },
  {
   "cell_type": "code",
   "execution_count": 4,
   "metadata": {
    "ExecuteTime": {
     "end_time": "2019-06-05T18:45:15.111012Z",
     "start_time": "2019-06-05T18:45:14.346252Z"
    }
   },
   "outputs": [],
   "source": [
    "path = Path('./data')\n",
    "nlp = spacy.load('en_core_sci_sm', disable=['parser', 'ner', 'tagger'])"
   ]
  },
  {
   "cell_type": "markdown",
   "metadata": {},
   "source": [
    "## Functions"
   ]
  },
  {
   "cell_type": "code",
   "execution_count": 5,
   "metadata": {
    "ExecuteTime": {
     "end_time": "2019-06-05T18:45:15.141263Z",
     "start_time": "2019-06-05T18:45:15.112369Z"
    }
   },
   "outputs": [],
   "source": [
    "def test(a,b,cmp,cname=None):\n",
    "    if cname is None: cname=cmp.__name__\n",
    "    assert cmp(a,b),f\"{cname}:\\n{a}\\n{b}\"\n",
    "\n",
    "def near(a,b): return np.allclose(a, b, rtol=1e-3, atol=1e-5)\n",
    "def test_near(a,b): test(a,b,near)\n",
    "\n",
    "def fix_df(df):\n",
    "    df.drop_duplicates(inplace=True)    \n",
    "    df['note'] = df['category'].str.cat(df['description'], sep='\\n')\n",
    "    df['note'] = df['note'].str.cat(df['text'], sep='\\n')\n",
    "    df.drop(['category', 'description', 'text'], axis=1, inplace=True)\n",
    "    cols = list(df.columns)\n",
    "    cols[-1] = 'class_label'\n",
    "    cols[-2] = 'note'\n",
    "    df = df.reindex(cols, axis=1)\n",
    "    return df\n",
    "\n",
    "def set_splits(df, val_pct, test_pct=0.0, sample_pct=0.0, seed=None):    \n",
    "    new_test_pct = np.around(test_pct / (val_pct + test_pct), 2)\n",
    "    train_pct = 1 - (val_pct + test_pct)\n",
    "    train_idxs, inter = train_test_split(np.arange(len(df)), test_size=(val_pct + test_pct), random_state=seed)\n",
    "    val_idxs, test_idxs = train_test_split(inter, test_size=new_test_pct, random_state=seed)\n",
    "    \n",
    "    df['split'] = None    \n",
    "    df.iloc[train_idxs, df.columns.get_loc('split')] = 'train'\n",
    "    df.iloc[val_idxs, df.columns.get_loc('split')] = 'val'\n",
    "    df.iloc[test_idxs, df.columns.get_loc('split')] = 'test'\n",
    "    \n",
    "    if sample_pct > 0.0:\n",
    "        df['is_sample'] = False\n",
    "        _, sample_idxs = train_test_split(train_idxs, test_size=sample_pct)\n",
    "        df.iloc[sample_idxs, df.columns.get_loc('is_sample')] = True\n",
    "        test_near(round(len(df[df['is_sample']])/len(df), 2), round(sample_pct * train_pct, 2))\n",
    "    \n",
    "    test_near(round(len(df[df['split'] == 'train'])/len(df), 2), train_pct)\n",
    "    test_near(round(len(df[df['split'] == 'val'])/len(df), 2), val_pct)\n",
    "    test_near(round(len(df[df['split'] == 'test'])/len(df), 2), test_pct)\n",
    "    \n",
    "    return df"
   ]
  },
  {
   "cell_type": "code",
   "execution_count": 6,
   "metadata": {
    "ExecuteTime": {
     "end_time": "2019-06-05T18:45:15.180218Z",
     "start_time": "2019-06-05T18:45:15.142968Z"
    }
   },
   "outputs": [],
   "source": [
    "def tokenize_text(text):\n",
    "    tokens = [token.text for token in nlp(text)]\n",
    "    return ' '.join(tokens)"
   ]
  },
  {
   "cell_type": "markdown",
   "metadata": {},
   "source": [
    "## Grab Data from Database"
   ]
  },
  {
   "cell_type": "markdown",
   "metadata": {},
   "source": [
    "Grab the data fields from the MIMIC postgres database. This query assumes that view/table/materialized view called **notes** is already setup. We are discarding the notes with *class_label* = -1 as these fall in the time period which are not used. We also discard notes whose lengths are either below 100 characters or more than 8500 characters. "
   ]
  },
  {
   "cell_type": "code",
   "execution_count": 7,
   "metadata": {
    "ExecuteTime": {
     "end_time": "2019-06-05T18:45:16.827448Z",
     "start_time": "2019-06-05T18:45:15.182295Z"
    }
   },
   "outputs": [
    {
     "data": {
      "text/html": [
       "<div>\n",
       "<style scoped>\n",
       "    .dataframe tbody tr th:only-of-type {\n",
       "        vertical-align: middle;\n",
       "    }\n",
       "\n",
       "    .dataframe tbody tr th {\n",
       "        vertical-align: top;\n",
       "    }\n",
       "\n",
       "    .dataframe thead th {\n",
       "        text-align: right;\n",
       "    }\n",
       "</style>\n",
       "<table border=\"1\" class=\"dataframe\">\n",
       "  <thead>\n",
       "    <tr style=\"text-align: right;\">\n",
       "      <th></th>\n",
       "      <th>hadm_id</th>\n",
       "      <th>subject_id</th>\n",
       "      <th>icustay_id</th>\n",
       "      <th>admission_age</th>\n",
       "      <th>gender</th>\n",
       "      <th>admittime</th>\n",
       "      <th>charttime</th>\n",
       "      <th>intime</th>\n",
       "      <th>wait_period</th>\n",
       "      <th>note_wait_time</th>\n",
       "      <th>chartinterval</th>\n",
       "      <th>category</th>\n",
       "      <th>description</th>\n",
       "      <th>text</th>\n",
       "      <th>class_label</th>\n",
       "    </tr>\n",
       "  </thead>\n",
       "  <tbody>\n",
       "    <tr>\n",
       "      <th>0</th>\n",
       "      <td>100012</td>\n",
       "      <td>60039</td>\n",
       "      <td>239289</td>\n",
       "      <td>67.71</td>\n",
       "      <td>M</td>\n",
       "      <td>2177-03-12 11:48:00</td>\n",
       "      <td>2177-03-12 16:40:00</td>\n",
       "      <td>2177-03-14 10:52:23</td>\n",
       "      <td>1.96</td>\n",
       "      <td>1.76</td>\n",
       "      <td>1</td>\n",
       "      <td>Radiology</td>\n",
       "      <td>CHEST (PRE-OP PA &amp; LAT)</td>\n",
       "      <td>[**2177-3-12**] 4:40 PM\\n CHEST (PRE-OP PA &amp; L...</td>\n",
       "      <td>1</td>\n",
       "    </tr>\n",
       "    <tr>\n",
       "      <th>1</th>\n",
       "      <td>100036</td>\n",
       "      <td>30078</td>\n",
       "      <td>296976</td>\n",
       "      <td>82.87</td>\n",
       "      <td>F</td>\n",
       "      <td>2187-07-13 13:58:00</td>\n",
       "      <td>2187-07-16 08:34:00</td>\n",
       "      <td>2187-07-17 09:09:36</td>\n",
       "      <td>3.80</td>\n",
       "      <td>1.02</td>\n",
       "      <td>1</td>\n",
       "      <td>Radiology</td>\n",
       "      <td>CHEST (PA &amp; LAT)</td>\n",
       "      <td>[**2187-7-16**] 8:34 AM\\n CHEST (PA &amp; LAT)    ...</td>\n",
       "      <td>1</td>\n",
       "    </tr>\n",
       "    <tr>\n",
       "      <th>2</th>\n",
       "      <td>100037</td>\n",
       "      <td>58947</td>\n",
       "      <td>221136</td>\n",
       "      <td>58.40</td>\n",
       "      <td>M</td>\n",
       "      <td>2183-03-23 18:21:00</td>\n",
       "      <td>2183-03-25 07:26:00</td>\n",
       "      <td>2183-04-20 13:16:43</td>\n",
       "      <td>27.79</td>\n",
       "      <td>26.24</td>\n",
       "      <td>15</td>\n",
       "      <td>Physician</td>\n",
       "      <td>Physician Resident Progress Note</td>\n",
       "      <td>Chief Complaint:\\n   24 Hour Events:\\n   - spo...</td>\n",
       "      <td>0</td>\n",
       "    </tr>\n",
       "    <tr>\n",
       "      <th>3</th>\n",
       "      <td>100037</td>\n",
       "      <td>58947</td>\n",
       "      <td>221136</td>\n",
       "      <td>58.40</td>\n",
       "      <td>M</td>\n",
       "      <td>2183-03-23 18:21:00</td>\n",
       "      <td>2183-03-25 05:28:00</td>\n",
       "      <td>2183-04-20 13:16:43</td>\n",
       "      <td>27.79</td>\n",
       "      <td>26.33</td>\n",
       "      <td>15</td>\n",
       "      <td>Nursing</td>\n",
       "      <td>Nursing Progress Note</td>\n",
       "      <td>58 y/o M presented to [**Hospital1 **] [**Loca...</td>\n",
       "      <td>0</td>\n",
       "    </tr>\n",
       "    <tr>\n",
       "      <th>4</th>\n",
       "      <td>100037</td>\n",
       "      <td>58947</td>\n",
       "      <td>221136</td>\n",
       "      <td>58.40</td>\n",
       "      <td>M</td>\n",
       "      <td>2183-03-23 18:21:00</td>\n",
       "      <td>2183-03-24 06:26:00</td>\n",
       "      <td>2183-04-20 13:16:43</td>\n",
       "      <td>27.79</td>\n",
       "      <td>27.29</td>\n",
       "      <td>15</td>\n",
       "      <td>Physician</td>\n",
       "      <td>Physician Resident/Attending Progress Note - MICU</td>\n",
       "      <td>Chief Complaint:\\n   24 Hour Events:\\n   -rece...</td>\n",
       "      <td>0</td>\n",
       "    </tr>\n",
       "  </tbody>\n",
       "</table>\n",
       "</div>"
      ],
      "text/plain": [
       "   hadm_id  subject_id  icustay_id  admission_age gender           admittime  \\\n",
       "0   100012       60039      239289          67.71      M 2177-03-12 11:48:00   \n",
       "1   100036       30078      296976          82.87      F 2187-07-13 13:58:00   \n",
       "2   100037       58947      221136          58.40      M 2183-03-23 18:21:00   \n",
       "3   100037       58947      221136          58.40      M 2183-03-23 18:21:00   \n",
       "4   100037       58947      221136          58.40      M 2183-03-23 18:21:00   \n",
       "\n",
       "            charttime              intime  wait_period  note_wait_time  \\\n",
       "0 2177-03-12 16:40:00 2177-03-14 10:52:23         1.96            1.76   \n",
       "1 2187-07-16 08:34:00 2187-07-17 09:09:36         3.80            1.02   \n",
       "2 2183-03-25 07:26:00 2183-04-20 13:16:43        27.79           26.24   \n",
       "3 2183-03-25 05:28:00 2183-04-20 13:16:43        27.79           26.33   \n",
       "4 2183-03-24 06:26:00 2183-04-20 13:16:43        27.79           27.29   \n",
       "\n",
       "   chartinterval    category  \\\n",
       "0              1   Radiology   \n",
       "1              1   Radiology   \n",
       "2             15  Physician    \n",
       "3             15     Nursing   \n",
       "4             15  Physician    \n",
       "\n",
       "                                         description  \\\n",
       "0                            CHEST (PRE-OP PA & LAT)   \n",
       "1                                   CHEST (PA & LAT)   \n",
       "2                   Physician Resident Progress Note   \n",
       "3                              Nursing Progress Note   \n",
       "4  Physician Resident/Attending Progress Note - MICU   \n",
       "\n",
       "                                                text  class_label  \n",
       "0  [**2177-3-12**] 4:40 PM\\n CHEST (PRE-OP PA & L...            1  \n",
       "1  [**2187-7-16**] 8:34 AM\\n CHEST (PA & LAT)    ...            1  \n",
       "2  Chief Complaint:\\n   24 Hour Events:\\n   - spo...            0  \n",
       "3  58 y/o M presented to [**Hospital1 **] [**Loca...            0  \n",
       "4  Chief Complaint:\\n   24 Hour Events:\\n   -rece...            0  "
      ]
     },
     "execution_count": 7,
     "metadata": {},
     "output_type": "execute_result"
    }
   ],
   "source": [
    "con = psycopg2.connect(dbname='mimic', user='sudarshan', host='/var/run/postgresql')\n",
    "\n",
    "query = \"\"\"\n",
    "select * from co where class_label != -1 and length(text) between 100 and 8500\n",
    "\"\"\"\n",
    "df = pd.read_sql_query(query, con)\n",
    "con.close()\n",
    "df.head()"
   ]
  },
  {
   "cell_type": "markdown",
   "metadata": {},
   "source": [
    "These are various helper functions. Test functions are copied from the fastai notebook found [here](https://nbviewer.jupyter.org/github/fastai/fastai_docs/blob/master/dev_course/dl2/01_matmul.ipynb).\n",
    "\n",
    "`fix_df` drops duplicate records, concatenates `category`, `description`, and `text` columns into one column called `note` and drops the concatenated columns.\n",
    "\n",
    "`set_splits` adds additional columns called `splits` and optionally `is_sample` to set the training, validation, and testing dataset from the dataframe according to the percentage specified in the function. In addition, optionally, there is a `sample_pct` to get a sample out of the training set for initial experimentation. Finally, the function also accepts a random seed for reproducability. This function uses `sklearn`'s `train_test_split` to get the splits."
   ]
  },
  {
   "cell_type": "code",
   "execution_count": 8,
   "metadata": {
    "ExecuteTime": {
     "end_time": "2019-06-05T18:45:18.936807Z",
     "start_time": "2019-06-05T18:45:18.520751Z"
    }
   },
   "outputs": [
    {
     "data": {
      "text/html": [
       "<div>\n",
       "<style scoped>\n",
       "    .dataframe tbody tr th:only-of-type {\n",
       "        vertical-align: middle;\n",
       "    }\n",
       "\n",
       "    .dataframe tbody tr th {\n",
       "        vertical-align: top;\n",
       "    }\n",
       "\n",
       "    .dataframe thead th {\n",
       "        text-align: right;\n",
       "    }\n",
       "</style>\n",
       "<table border=\"1\" class=\"dataframe\">\n",
       "  <thead>\n",
       "    <tr style=\"text-align: right;\">\n",
       "      <th></th>\n",
       "      <th>hadm_id</th>\n",
       "      <th>subject_id</th>\n",
       "      <th>icustay_id</th>\n",
       "      <th>admission_age</th>\n",
       "      <th>gender</th>\n",
       "      <th>admittime</th>\n",
       "      <th>charttime</th>\n",
       "      <th>intime</th>\n",
       "      <th>wait_period</th>\n",
       "      <th>note_wait_time</th>\n",
       "      <th>chartinterval</th>\n",
       "      <th>note</th>\n",
       "      <th>class_label</th>\n",
       "    </tr>\n",
       "  </thead>\n",
       "  <tbody>\n",
       "    <tr>\n",
       "      <th>0</th>\n",
       "      <td>100012</td>\n",
       "      <td>60039</td>\n",
       "      <td>239289</td>\n",
       "      <td>67.71</td>\n",
       "      <td>M</td>\n",
       "      <td>2177-03-12 11:48:00</td>\n",
       "      <td>2177-03-12 16:40:00</td>\n",
       "      <td>2177-03-14 10:52:23</td>\n",
       "      <td>1.96</td>\n",
       "      <td>1.76</td>\n",
       "      <td>1</td>\n",
       "      <td>Radiology\\nCHEST (PRE-OP PA &amp; LAT)\\n[**2177-3-...</td>\n",
       "      <td>1</td>\n",
       "    </tr>\n",
       "    <tr>\n",
       "      <th>1</th>\n",
       "      <td>100036</td>\n",
       "      <td>30078</td>\n",
       "      <td>296976</td>\n",
       "      <td>82.87</td>\n",
       "      <td>F</td>\n",
       "      <td>2187-07-13 13:58:00</td>\n",
       "      <td>2187-07-16 08:34:00</td>\n",
       "      <td>2187-07-17 09:09:36</td>\n",
       "      <td>3.80</td>\n",
       "      <td>1.02</td>\n",
       "      <td>1</td>\n",
       "      <td>Radiology\\nCHEST (PA &amp; LAT)\\n[**2187-7-16**] 8...</td>\n",
       "      <td>1</td>\n",
       "    </tr>\n",
       "    <tr>\n",
       "      <th>2</th>\n",
       "      <td>100037</td>\n",
       "      <td>58947</td>\n",
       "      <td>221136</td>\n",
       "      <td>58.40</td>\n",
       "      <td>M</td>\n",
       "      <td>2183-03-23 18:21:00</td>\n",
       "      <td>2183-03-25 07:26:00</td>\n",
       "      <td>2183-04-20 13:16:43</td>\n",
       "      <td>27.79</td>\n",
       "      <td>26.24</td>\n",
       "      <td>15</td>\n",
       "      <td>Physician \\nPhysician Resident Progress Note\\n...</td>\n",
       "      <td>0</td>\n",
       "    </tr>\n",
       "    <tr>\n",
       "      <th>3</th>\n",
       "      <td>100037</td>\n",
       "      <td>58947</td>\n",
       "      <td>221136</td>\n",
       "      <td>58.40</td>\n",
       "      <td>M</td>\n",
       "      <td>2183-03-23 18:21:00</td>\n",
       "      <td>2183-03-25 05:28:00</td>\n",
       "      <td>2183-04-20 13:16:43</td>\n",
       "      <td>27.79</td>\n",
       "      <td>26.33</td>\n",
       "      <td>15</td>\n",
       "      <td>Nursing\\nNursing Progress Note\\n58 y/o M prese...</td>\n",
       "      <td>0</td>\n",
       "    </tr>\n",
       "    <tr>\n",
       "      <th>4</th>\n",
       "      <td>100037</td>\n",
       "      <td>58947</td>\n",
       "      <td>221136</td>\n",
       "      <td>58.40</td>\n",
       "      <td>M</td>\n",
       "      <td>2183-03-23 18:21:00</td>\n",
       "      <td>2183-03-24 06:26:00</td>\n",
       "      <td>2183-04-20 13:16:43</td>\n",
       "      <td>27.79</td>\n",
       "      <td>27.29</td>\n",
       "      <td>15</td>\n",
       "      <td>Physician \\nPhysician Resident/Attending Progr...</td>\n",
       "      <td>0</td>\n",
       "    </tr>\n",
       "  </tbody>\n",
       "</table>\n",
       "</div>"
      ],
      "text/plain": [
       "   hadm_id  subject_id  icustay_id  admission_age gender           admittime  \\\n",
       "0   100012       60039      239289          67.71      M 2177-03-12 11:48:00   \n",
       "1   100036       30078      296976          82.87      F 2187-07-13 13:58:00   \n",
       "2   100037       58947      221136          58.40      M 2183-03-23 18:21:00   \n",
       "3   100037       58947      221136          58.40      M 2183-03-23 18:21:00   \n",
       "4   100037       58947      221136          58.40      M 2183-03-23 18:21:00   \n",
       "\n",
       "            charttime              intime  wait_period  note_wait_time  \\\n",
       "0 2177-03-12 16:40:00 2177-03-14 10:52:23         1.96            1.76   \n",
       "1 2187-07-16 08:34:00 2187-07-17 09:09:36         3.80            1.02   \n",
       "2 2183-03-25 07:26:00 2183-04-20 13:16:43        27.79           26.24   \n",
       "3 2183-03-25 05:28:00 2183-04-20 13:16:43        27.79           26.33   \n",
       "4 2183-03-24 06:26:00 2183-04-20 13:16:43        27.79           27.29   \n",
       "\n",
       "   chartinterval                                               note  \\\n",
       "0              1  Radiology\\nCHEST (PRE-OP PA & LAT)\\n[**2177-3-...   \n",
       "1              1  Radiology\\nCHEST (PA & LAT)\\n[**2187-7-16**] 8...   \n",
       "2             15  Physician \\nPhysician Resident Progress Note\\n...   \n",
       "3             15  Nursing\\nNursing Progress Note\\n58 y/o M prese...   \n",
       "4             15  Physician \\nPhysician Resident/Attending Progr...   \n",
       "\n",
       "   class_label  \n",
       "0            1  \n",
       "1            1  \n",
       "2            0  \n",
       "3            0  \n",
       "4            0  "
      ]
     },
     "execution_count": 8,
     "metadata": {},
     "output_type": "execute_result"
    }
   ],
   "source": [
    "df = fix_df(df)\n",
    "df.head()"
   ]
  },
  {
   "cell_type": "code",
   "execution_count": 9,
   "metadata": {
    "ExecuteTime": {
     "end_time": "2019-06-05T18:45:24.212702Z",
     "start_time": "2019-06-05T18:45:24.190101Z"
    }
   },
   "outputs": [
    {
     "name": "stdout",
     "output_type": "stream",
     "text": [
      "Total number of notes: 50820\n",
      "Distribution of classes:\n",
      " class_label\n",
      "0    38815\n",
      "1    12005\n",
      "dtype: int64\n"
     ]
    }
   ],
   "source": [
    "print(f\"Total number of notes: {len(df)}\")\n",
    "print(f\"Distribution of classes:\\n {df.groupby('class_label').size()}\")    "
   ]
  },
  {
   "cell_type": "code",
   "execution_count": 23,
   "metadata": {
    "ExecuteTime": {
     "end_time": "2019-06-05T18:49:21.819421Z",
     "start_time": "2019-06-05T18:49:21.790578Z"
    }
   },
   "outputs": [
    {
     "data": {
      "text/plain": [
       "5522"
      ]
     },
     "execution_count": 23,
     "metadata": {},
     "output_type": "execute_result"
    }
   ],
   "source": [
    "df.loc[(df['class_label'] == 1)]['hadm_id'].nunique()"
   ]
  },
  {
   "cell_type": "markdown",
   "metadata": {},
   "source": [
    "Iterative over the class labels to split the notes into train/val/test with the ratio 0.8/0.1/0.1 and a 10% sample from the training set. We set a random seed of 42. Splitting the data this way maintains the proportion of the classes in the splits of the class labels."
   ]
  },
  {
   "cell_type": "markdown",
   "metadata": {},
   "source": [
    "## Preprocess"
   ]
  },
  {
   "cell_type": "code",
   "execution_count": null,
   "metadata": {
    "ExecuteTime": {
     "end_time": "2019-05-04T21:55:36.839755Z",
     "start_time": "2019-05-04T21:55:36.486935Z"
    }
   },
   "outputs": [],
   "source": [
    "from dask import dataframe as ddf\n",
    "dd = ddf.from_pandas(df, 8)"
   ]
  },
  {
   "cell_type": "code",
   "execution_count": null,
   "metadata": {
    "ExecuteTime": {
     "end_time": "2019-05-04T21:55:39.223166Z",
     "start_time": "2019-05-04T21:55:36.841485Z"
    }
   },
   "outputs": [],
   "source": [
    "dd['proc_note'] = dd['note'].apply(process_notes, meta=('note', 'object'))\n",
    "dd['tok_note'] = dd['note'].apply(tokenize_text, meta=('note', 'object'))\n",
    "dd['tok_proc_note'] = dd['proc_note'].apply(tokenize_text, meta=('note', 'object'))"
   ]
  },
  {
   "cell_type": "code",
   "execution_count": null,
   "metadata": {
    "ExecuteTime": {
     "end_time": "2019-05-04T22:03:49.839212Z",
     "start_time": "2019-05-04T21:55:43.343160Z"
    }
   },
   "outputs": [],
   "source": [
    "df = dd.compute()"
   ]
  },
  {
   "cell_type": "markdown",
   "metadata": {},
   "source": [
    "## Set Splits"
   ]
  },
  {
   "cell_type": "code",
   "execution_count": null,
   "metadata": {
    "ExecuteTime": {
     "end_time": "2019-05-01T23:10:15.689112Z",
     "start_time": "2019-05-01T23:10:15.580062Z"
    }
   },
   "outputs": [],
   "source": [
    "classes = [None] * df['class_label'].nunique()\n",
    "class_labels = df['class_label'].unique()\n",
    "\n",
    "for idx, label in enumerate(class_labels):\n",
    "    classes[idx] = df[df['class_label'] == label].copy()\n",
    "    classes[idx].reset_index(inplace=True, drop=True)\n",
    "\n",
    "for idx in range(len(classes)):\n",
    "    classes[idx] = set_splits(classes[idx], 0.1, 0.1, 0.1, seed=42)\n",
    "    \n",
    "df = pd.concat(classes, axis=0)\n",
    "df.head()    "
   ]
  },
  {
   "cell_type": "code",
   "execution_count": null,
   "metadata": {
    "ExecuteTime": {
     "end_time": "2019-05-01T23:10:15.727686Z",
     "start_time": "2019-05-01T23:10:15.691493Z"
    }
   },
   "outputs": [],
   "source": [
    "print(f\"Distribution of splits:\\n{df.groupby('split').size()}\")\n",
    "print(f\"Number of samples: {len(df[df['is_sample']])}\")"
   ]
  },
  {
   "cell_type": "markdown",
   "metadata": {},
   "source": [
    "Write the dataset to disk and verify that it is written correctly, by loading it back again."
   ]
  },
  {
   "cell_type": "code",
   "execution_count": null,
   "metadata": {
    "ExecuteTime": {
     "end_time": "2019-05-01T23:10:18.470494Z",
     "start_time": "2019-05-01T23:10:15.729203Z"
    }
   },
   "outputs": [],
   "source": [
    "path = Path('./data')\n",
    "df.to_csv(path/'data.csv', index=False)\n",
    "\n",
    "df = pd.read_csv(path/'data.csv')\n",
    "df.head()"
   ]
  }
 ],
 "metadata": {
  "kernelspec": {
   "display_name": "Python 3",
   "language": "python",
   "name": "python3"
  },
  "language_info": {
   "codemirror_mode": {
    "name": "ipython",
    "version": 3
   },
   "file_extension": ".py",
   "mimetype": "text/x-python",
   "name": "python",
   "nbconvert_exporter": "python",
   "pygments_lexer": "ipython3",
   "version": "3.7.3"
  },
  "toc": {
   "base_numbering": 1,
   "nav_menu": {},
   "number_sections": true,
   "sideBar": true,
   "skip_h1_title": true,
   "title_cell": "Table of Contents",
   "title_sidebar": "Contents",
   "toc_cell": false,
   "toc_position": {},
   "toc_section_display": true,
   "toc_window_display": false
  }
 },
 "nbformat": 4,
 "nbformat_minor": 2
}
